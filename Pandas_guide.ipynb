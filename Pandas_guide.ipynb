{
 "cells": [
  {
   "cell_type": "code",
   "execution_count": 1,
   "id": "1fd00f3c",
   "metadata": {},
   "outputs": [],
   "source": [
    "import pandas as pd"
   ]
  },
  {
   "cell_type": "markdown",
   "id": "b45b25b3",
   "metadata": {},
   "source": [
    "##### 1. Create dataframe from dictionary"
   ]
  },
  {
   "cell_type": "code",
   "execution_count": 3,
   "id": "a95f039d",
   "metadata": {},
   "outputs": [
    {
     "data": {
      "text/html": [
       "<div>\n",
       "<style scoped>\n",
       "    .dataframe tbody tr th:only-of-type {\n",
       "        vertical-align: middle;\n",
       "    }\n",
       "\n",
       "    .dataframe tbody tr th {\n",
       "        vertical-align: top;\n",
       "    }\n",
       "\n",
       "    .dataframe thead th {\n",
       "        text-align: right;\n",
       "    }\n",
       "</style>\n",
       "<table border=\"1\" class=\"dataframe\">\n",
       "  <thead>\n",
       "    <tr style=\"text-align: right;\">\n",
       "      <th></th>\n",
       "      <th>Name</th>\n",
       "      <th>Age</th>\n",
       "    </tr>\n",
       "  </thead>\n",
       "  <tbody>\n",
       "    <tr>\n",
       "      <th>0</th>\n",
       "      <td>John</td>\n",
       "      <td>25</td>\n",
       "    </tr>\n",
       "    <tr>\n",
       "      <th>1</th>\n",
       "      <td>Alice</td>\n",
       "      <td>28</td>\n",
       "    </tr>\n",
       "    <tr>\n",
       "      <th>2</th>\n",
       "      <td>Bob</td>\n",
       "      <td>22</td>\n",
       "    </tr>\n",
       "  </tbody>\n",
       "</table>\n",
       "</div>"
      ],
      "text/plain": [
       "    Name  Age\n",
       "0   John   25\n",
       "1  Alice   28\n",
       "2    Bob   22"
      ]
     },
     "execution_count": 3,
     "metadata": {},
     "output_type": "execute_result"
    }
   ],
   "source": [
    "data = {'Name':['John','Alice','Bob'], 'Age':[25,28,22]}\n",
    "df = pd.DataFrame(data)\n",
    "df"
   ]
  },
  {
   "cell_type": "markdown",
   "id": "cda9ecf6",
   "metadata": {},
   "source": [
    "##### 2. Read CSV"
   ]
  },
  {
   "cell_type": "code",
   "execution_count": null,
   "id": "8f00678f",
   "metadata": {},
   "outputs": [],
   "source": [
    "df = pd.read_csv(\"filename.csv\")"
   ]
  },
  {
   "cell_type": "markdown",
   "id": "93854237",
   "metadata": {},
   "source": [
    "##### 3. Display the n row of the dataframe"
   ]
  },
  {
   "cell_type": "code",
   "execution_count": null,
   "id": "a2025a88",
   "metadata": {},
   "outputs": [],
   "source": [
    "df.head(5)"
   ]
  },
  {
   "cell_type": "markdown",
   "id": "88e9ee42",
   "metadata": {},
   "source": [
    "##### 4. Select a single column"
   ]
  },
  {
   "cell_type": "code",
   "execution_count": null,
   "id": "c85ba71e",
   "metadata": {},
   "outputs": [],
   "source": [
    "names = df['Name']"
   ]
  },
  {
   "cell_type": "markdown",
   "id": "dd5f0f28",
   "metadata": {},
   "source": [
    "##### 5. Select multiple columns"
   ]
  },
  {
   "cell_type": "code",
   "execution_count": null,
   "id": "36540344",
   "metadata": {},
   "outputs": [],
   "source": [
    "subset = df[['Name', 'Age']]"
   ]
  },
  {
   "cell_type": "markdown",
   "id": "a228091b",
   "metadata": {},
   "source": [
    "##### 6. First row based on condition"
   ]
  },
  {
   "cell_type": "code",
   "execution_count": null,
   "id": "be9126af",
   "metadata": {},
   "outputs": [],
   "source": [
    "adults = df[df['Age']>25]"
   ]
  },
  {
   "cell_type": "markdown",
   "id": "e571debc",
   "metadata": {},
   "source": [
    "##### 7. Sort dataframe by a column"
   ]
  },
  {
   "cell_type": "code",
   "execution_count": null,
   "id": "d144d503",
   "metadata": {},
   "outputs": [],
   "source": [
    "df_sorted = df.sort_values(by='Age',ascending=False)"
   ]
  },
  {
   "cell_type": "markdown",
   "id": "0d21beac",
   "metadata": {},
   "source": [
    "##### 8. Group by and aggregate function"
   ]
  },
  {
   "cell_type": "code",
   "execution_count": null,
   "id": "871ca6d1",
   "metadata": {},
   "outputs": [],
   "source": [
    "avg_age_by_name = df.groupby('Name')['age'].mean()"
   ]
  },
  {
   "cell_type": "markdown",
   "id": "8179e597",
   "metadata": {},
   "source": [
    "##### 9. Handling missing values"
   ]
  },
  {
   "cell_type": "code",
   "execution_count": null,
   "id": "a4d40f88",
   "metadata": {},
   "outputs": [],
   "source": [
    "df.dropna()\n",
    "df.fillna(value)"
   ]
  },
  {
   "cell_type": "markdown",
   "id": "bc92f882",
   "metadata": {},
   "source": [
    "##### 10. Adding a new column"
   ]
  },
  {
   "cell_type": "code",
   "execution_count": null,
   "id": "c778b6f0",
   "metadata": {},
   "outputs": [],
   "source": [
    "df['Salary'] = [5000,6000,7000]"
   ]
  },
  {
   "cell_type": "markdown",
   "id": "b9a58923",
   "metadata": {},
   "source": [
    "##### 11. Rename columns"
   ]
  },
  {
   "cell_type": "code",
   "execution_count": null,
   "id": "e118a5c4",
   "metadata": {},
   "outputs": [],
   "source": [
    "df.rename(column={'Age':'Years'}, inplace=True)"
   ]
  },
  {
   "cell_type": "markdown",
   "id": "a8a71c1a",
   "metadata": {},
   "source": [
    "##### 12. concatenate DataFrames vertically"
   ]
  },
  {
   "cell_type": "code",
   "execution_count": null,
   "id": "bc845ac2",
   "metadata": {},
   "outputs": [],
   "source": [
    "df.concat([df1,df2], axis=0)"
   ]
  },
  {
   "cell_type": "markdown",
   "id": "b00bc594",
   "metadata": {},
   "source": [
    "##### 13. concatenate DataFrames horizontally"
   ]
  },
  {
   "cell_type": "code",
   "execution_count": null,
   "id": "ef95fb9c",
   "metadata": {},
   "outputs": [],
   "source": [
    "df.concat([df1,df2], axis=1)"
   ]
  },
  {
   "cell_type": "markdown",
   "id": "46ac2c45",
   "metadata": {},
   "source": [
    "##### 14. Merge dataframe based on key"
   ]
  },
  {
   "cell_type": "code",
   "execution_count": null,
   "id": "33d1d420",
   "metadata": {},
   "outputs": [],
   "source": [
    "merged_df = pd.merge(df1,df2, on='common_column_name')"
   ]
  },
  {
   "cell_type": "markdown",
   "id": "2471797f",
   "metadata": {},
   "source": [
    "##### 15. Pivot a dataframe"
   ]
  },
  {
   "cell_type": "code",
   "execution_count": null,
   "id": "4a4e5176",
   "metadata": {},
   "outputs": [],
   "source": [
    "df_pivot = df.pivot(index='Date', columns='Category', values = 'Value')"
   ]
  },
  {
   "cell_type": "markdown",
   "id": "bb716195",
   "metadata": {},
   "source": [
    "##### 16. reshape Dataframe with melt"
   ]
  },
  {
   "cell_type": "code",
   "execution_count": null,
   "id": "7edaf2cd",
   "metadata": {},
   "outputs": [],
   "source": [
    "df_melted =pd.melt(df, id_vars=['ID'], value_vars=['Var1','Var2'])"
   ]
  },
  {
   "cell_type": "markdown",
   "id": "9de7021e",
   "metadata": {},
   "source": [
    "##### 17. Calculating the summary statistics"
   ]
  },
  {
   "cell_type": "code",
   "execution_count": null,
   "id": "b54e5a5b",
   "metadata": {},
   "outputs": [],
   "source": [
    "mean_age = df['Age'].mean()"
   ]
  },
  {
   "cell_type": "markdown",
   "id": "442081ed",
   "metadata": {},
   "source": [
    "##### 18. Apply a function to each other"
   ]
  },
  {
   "cell_type": "code",
   "execution_count": null,
   "id": "542562f5",
   "metadata": {},
   "outputs": [],
   "source": [
    "df['doubled_age']=df['Age'].apply(lambda x:x*2)"
   ]
  },
  {
   "cell_type": "markdown",
   "id": "f8da8947",
   "metadata": {},
   "source": [
    "##### 19. Calculate unique values and their counts"
   ]
  },
  {
   "cell_type": "code",
   "execution_count": null,
   "id": "ef5f678f",
   "metadata": {},
   "outputs": [],
   "source": [
    "unique_values =df['Category'].value_counts()"
   ]
  },
  {
   "cell_type": "markdown",
   "id": "4e2cb482",
   "metadata": {},
   "source": [
    "##### 20. Convert DataFrame column to datetime\n"
   ]
  },
  {
   "cell_type": "code",
   "execution_count": null,
   "id": "c74748d8",
   "metadata": {},
   "outputs": [],
   "source": [
    "df['Date']=pd.to_datetime(df['Datetime'])"
   ]
  },
  {
   "cell_type": "markdown",
   "id": "33a1f772",
   "metadata": {},
   "source": [
    "##### 21. Filter row based on multiple condition"
   ]
  },
  {
   "cell_type": "code",
   "execution_count": null,
   "id": "58e160c2",
   "metadata": {},
   "outputs": [],
   "source": [
    "filtered_data = df[(df['Age']>25) & (df['salary']>50000)]"
   ]
  },
  {
   "cell_type": "markdown",
   "id": "1876a41b",
   "metadata": {},
   "source": [
    "##### 22. Remove duplicate rows"
   ]
  },
  {
   "cell_type": "code",
   "execution_count": null,
   "id": "9cb84ae1",
   "metadata": {},
   "outputs": [],
   "source": [
    "df_no_duplicates = df.drop_duplicates()"
   ]
  },
  {
   "cell_type": "markdown",
   "id": "bd33cbde",
   "metadata": {},
   "source": [
    "##### 23. convert categorical variable to dummy/indicator variable"
   ]
  },
  {
   "cell_type": "code",
   "execution_count": null,
   "id": "2e6654d4",
   "metadata": {},
   "outputs": [],
   "source": [
    "df_dummies = pd.get_dummies(df['Category'])"
   ]
  },
  {
   "cell_type": "markdown",
   "id": "9a1bdd9c",
   "metadata": {},
   "source": [
    "##### 24. Change data type of a column"
   ]
  },
  {
   "cell_type": "code",
   "execution_count": null,
   "id": "d39c95b0",
   "metadata": {},
   "outputs": [],
   "source": [
    "df['Amount'] = df['Amount'].astype(float)"
   ]
  },
  {
   "cell_type": "markdown",
   "id": "0d707381",
   "metadata": {},
   "source": [
    "##### 25. Apply custom function element-wise"
   ]
  },
  {
   "cell_type": "code",
   "execution_count": null,
   "id": "4eed50c2",
   "metadata": {},
   "outputs": [],
   "source": [
    "def custom_function(x):\n",
    "    return x*2\n",
    "\n",
    "df['Doubled_Amount'] = df['Amount'].apply(custom_function)"
   ]
  },
  {
   "cell_type": "markdown",
   "id": "68cf5e37",
   "metadata": {},
   "source": [
    "##### 26. Filter rows based on a list of values"
   ]
  },
  {
   "cell_type": "code",
   "execution_count": null,
   "id": "f57e9416",
   "metadata": {},
   "outputs": [],
   "source": [
    "filtered_data = df[df['Category'].isin(['A','B'])]"
   ]
  },
  {
   "cell_type": "markdown",
   "id": "5f17c358",
   "metadata": {},
   "source": [
    "##### 27. Calculate cumulative sum"
   ]
  },
  {
   "cell_type": "code",
   "execution_count": null,
   "id": "333d995b",
   "metadata": {},
   "outputs": [],
   "source": [
    "df['Cumulative_Sum'] = df['Value'].cumsum()"
   ]
  },
  {
   "cell_type": "markdown",
   "id": "774ad7c0",
   "metadata": {},
   "source": [
    "##### 28. Convent Dataframe to numpy array"
   ]
  },
  {
   "cell_type": "code",
   "execution_count": null,
   "id": "06c32c52",
   "metadata": {},
   "outputs": [],
   "source": [
    "numpy_array = df.values"
   ]
  },
  {
   "cell_type": "markdown",
   "id": "e06470bf",
   "metadata": {},
   "source": [
    "##### 29. Export DataFrame to CSV"
   ]
  },
  {
   "cell_type": "code",
   "execution_count": null,
   "id": "5da0746f",
   "metadata": {},
   "outputs": [],
   "source": [
    "df.to_csv('output_file.csv',index=False)"
   ]
  },
  {
   "cell_type": "markdown",
   "id": "45c016d2",
   "metadata": {},
   "source": [
    "##### 30. Describe Dataframe statistics"
   ]
  },
  {
   "cell_type": "code",
   "execution_count": null,
   "id": "05346611",
   "metadata": {},
   "outputs": [],
   "source": [
    "df_stats = df.describe()"
   ]
  },
  {
   "cell_type": "markdown",
   "id": "bac047d9",
   "metadata": {},
   "source": [
    "# Other important operations"
   ]
  },
  {
   "cell_type": "markdown",
   "id": "d0f27a87",
   "metadata": {},
   "source": [
    "##### 1. Select rows based on index"
   ]
  },
  {
   "cell_type": "code",
   "execution_count": null,
   "id": "d4fb2f58",
   "metadata": {},
   "outputs": [],
   "source": [
    "selected_rows =df.loc[2:5]"
   ]
  },
  {
   "cell_type": "markdown",
   "id": "71e01ab2",
   "metadata": {},
   "source": [
    "##### 2. Select Rows and Columns by index position"
   ]
  },
  {
   "cell_type": "code",
   "execution_count": null,
   "id": "230e0374",
   "metadata": {},
   "outputs": [],
   "source": [
    "subset = df.iloc[1:4,2:5]"
   ]
  },
  {
   "cell_type": "markdown",
   "id": "743a181a",
   "metadata": {},
   "source": [
    "##### 3. Select Rows based on string matching"
   ]
  },
  {
   "cell_type": "code",
   "execution_count": null,
   "id": "e2b08f75",
   "metadata": {},
   "outputs": [],
   "source": [
    "matching_rows = df[df['Column'].str.contains('substring')]"
   ]
  },
  {
   "cell_type": "markdown",
   "id": "66db6aa2",
   "metadata": {},
   "source": [
    "##### 4. Select rows with null values"
   ]
  },
  {
   "cell_type": "code",
   "execution_count": null,
   "id": "39572d4e",
   "metadata": {},
   "outputs": [],
   "source": [
    "null_rows = df[df['Column'].isnull()]"
   ]
  },
  {
   "cell_type": "markdown",
   "id": "76785b07",
   "metadata": {},
   "source": [
    "##### 5. Select Unique values in a column"
   ]
  },
  {
   "cell_type": "code",
   "execution_count": null,
   "id": "e92da1d6",
   "metadata": {},
   "outputs": [],
   "source": [
    "unique_values = df['Column'].unique()"
   ]
  },
  {
   "cell_type": "code",
   "execution_count": null,
   "id": "00d09415",
   "metadata": {},
   "outputs": [],
   "source": [
    "#####"
   ]
  }
 ],
 "metadata": {
  "kernelspec": {
   "display_name": "venv_311",
   "language": "python",
   "name": "venv_311"
  },
  "language_info": {
   "codemirror_mode": {
    "name": "ipython",
    "version": 3
   },
   "file_extension": ".py",
   "mimetype": "text/x-python",
   "name": "python",
   "nbconvert_exporter": "python",
   "pygments_lexer": "ipython3",
   "version": "3.11.5"
  }
 },
 "nbformat": 4,
 "nbformat_minor": 5
}
