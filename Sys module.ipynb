{
 "cells": [
  {
   "cell_type": "code",
   "execution_count": 1,
   "id": "16ed0a32",
   "metadata": {},
   "outputs": [],
   "source": [
    "import sys"
   ]
  },
  {
   "cell_type": "markdown",
   "id": "55ea8870",
   "metadata": {},
   "source": [
    " The 'sys' module in Python provides access to some variables used or maintained by the Python interpreter and functions that interact strongly with the interpreter."
   ]
  },
  {
   "cell_type": "code",
   "execution_count": 2,
   "id": "48e29d50",
   "metadata": {},
   "outputs": [
    {
     "name": "stdout",
     "output_type": "stream",
     "text": [
      "Script Name: C:\\Users\\Vikas\\AppData\\Roaming\\Python\\Python311\\site-packages\\ipykernel_launcher.py\n",
      "Command Line Arguments: ['-f', 'C:\\\\Users\\\\Vikas\\\\AppData\\\\Roaming\\\\jupyter\\\\runtime\\\\kernel-021334be-7f41-436a-8ebd-64db2d3ec77a.json']\n"
     ]
    }
   ],
   "source": [
    "# command line arguments\n",
    "\n",
    "import sys\n",
    "\n",
    "script_name = sys.argv[0]\n",
    "arguments = sys.argv[1:]\n",
    "\n",
    "print(f\"Script Name: {script_name}\")\n",
    "print(f\"Command Line Arguments: {arguments}\")"
   ]
  },
  {
   "cell_type": "code",
   "execution_count": 5,
   "id": "1948e3ad",
   "metadata": {},
   "outputs": [
    {
     "name": "stdout",
     "output_type": "stream",
     "text": [
      "Error: Some condition not met.\n"
     ]
    },
    {
     "ename": "SystemExit",
     "evalue": "1",
     "output_type": "error",
     "traceback": [
      "An exception has occurred, use %tb to see the full traceback.\n",
      "\u001b[1;31mSystemExit\u001b[0m\u001b[1;31m:\u001b[0m 1\n"
     ]
    },
    {
     "name": "stderr",
     "output_type": "stream",
     "text": [
      "C:\\Users\\Vikas\\AppData\\Roaming\\Python\\Python311\\site-packages\\IPython\\core\\interactiveshell.py:3516: UserWarning: To exit: use 'exit', 'quit', or Ctrl-D.\n",
      "  warn(\"To exit: use 'exit', 'quit', or Ctrl-D.\", stacklevel=1)\n"
     ]
    }
   ],
   "source": [
    "# exiting a program\n",
    "import sys\n",
    "\n",
    "x=1\n",
    "if x:\n",
    "    print(\"Error: Some condition not met.\")\n",
    "    sys.exit(1)  # Exit with status code 1 indicating an error"
   ]
  },
  {
   "cell_type": "code",
   "execution_count": 6,
   "id": "348c3349",
   "metadata": {},
   "outputs": [
    {
     "name": "stdout",
     "output_type": "stream",
     "text": [
      "Python Path:\n",
      "C:\\Users\\Vikas\\Documents\\python_env\\Python_guide\n",
      "C:\\Users\\Vikas\\.conda\\envs\\venv_311\\python311.zip\n",
      "C:\\Users\\Vikas\\.conda\\envs\\venv_311\\DLLs\n",
      "C:\\Users\\Vikas\\.conda\\envs\\venv_311\\Lib\n",
      "C:\\Users\\Vikas\\.conda\\envs\\venv_311\n",
      "\n",
      "C:\\Users\\Vikas\\AppData\\Roaming\\Python\\Python311\\site-packages\n",
      "C:\\Users\\Vikas\\AppData\\Roaming\\Python\\Python311\\site-packages\\win32\n",
      "C:\\Users\\Vikas\\AppData\\Roaming\\Python\\Python311\\site-packages\\win32\\lib\n",
      "C:\\Users\\Vikas\\AppData\\Roaming\\Python\\Python311\\site-packages\\Pythonwin\n",
      "C:\\Users\\Vikas\\.conda\\envs\\venv_311\\Lib\\site-packages\n",
      "C:\\Users\\Vikas\\.conda\\envs\\venv_311\\Lib\\site-packages\\win32\n",
      "C:\\Users\\Vikas\\.conda\\envs\\venv_311\\Lib\\site-packages\\win32\\lib\n",
      "C:\\Users\\Vikas\\.conda\\envs\\venv_311\\Lib\\site-packages\\Pythonwin\n"
     ]
    }
   ],
   "source": [
    "# Access to the Python Path\n",
    "import sys\n",
    "\n",
    "print(\"Python Path:\")\n",
    "for path in sys.path:\n",
    "    print(path)"
   ]
  },
  {
   "cell_type": "code",
   "execution_count": null,
   "id": "7f8cb76f",
   "metadata": {},
   "outputs": [],
   "source": [
    "# Standard I/O Streams\n",
    "import sys\n",
    "\n",
    "user_input = input(\"Enter something: \")\n",
    "sys.stdout.write(f\"You entered: {user_input}\\n\")\n",
    "sys.stderr.write(\"This is an error message.\\n\")"
   ]
  },
  {
   "cell_type": "code",
   "execution_count": 7,
   "id": "7dbfeaef",
   "metadata": {},
   "outputs": [
    {
     "name": "stdout",
     "output_type": "stream",
     "text": [
      "Size of my_list: 104 bytes\n"
     ]
    }
   ],
   "source": [
    "# Memory Management\n",
    "import sys\n",
    "\n",
    "my_list = [1, 2, 3, 4, 5]\n",
    "print(f\"Size of my_list: {sys.getsizeof(my_list)} bytes\")\n"
   ]
  },
  {
   "cell_type": "code",
   "execution_count": 8,
   "id": "fbc39f32",
   "metadata": {},
   "outputs": [
    {
     "name": "stdout",
     "output_type": "stream",
     "text": [
      "Recursion Limit: 3000\n"
     ]
    }
   ],
   "source": [
    "# Recursion Limit\n",
    "import sys\n",
    "\n",
    "print(f\"Recursion Limit: {sys.getrecursionlimit()}\")\n"
   ]
  },
  {
   "cell_type": "code",
   "execution_count": null,
   "id": "a47f63ef",
   "metadata": {},
   "outputs": [],
   "source": []
  }
 ],
 "metadata": {
  "kernelspec": {
   "display_name": "venv_311",
   "language": "python",
   "name": "venv_311"
  },
  "language_info": {
   "codemirror_mode": {
    "name": "ipython",
    "version": 3
   },
   "file_extension": ".py",
   "mimetype": "text/x-python",
   "name": "python",
   "nbconvert_exporter": "python",
   "pygments_lexer": "ipython3",
   "version": "3.11.5"
  }
 },
 "nbformat": 4,
 "nbformat_minor": 5
}
