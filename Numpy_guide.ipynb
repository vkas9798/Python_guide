{
 "cells": [
  {
   "cell_type": "markdown",
   "id": "7a5e6809",
   "metadata": {},
   "source": [
    "### 1. Creating an array"
   ]
  },
  {
   "cell_type": "code",
   "execution_count": 1,
   "id": "072ed921",
   "metadata": {},
   "outputs": [],
   "source": [
    "import numpy as np"
   ]
  },
  {
   "cell_type": "code",
   "execution_count": 3,
   "id": "3f2ff43c",
   "metadata": {},
   "outputs": [
    {
     "data": {
      "text/plain": [
       "array([1, 2, 3])"
      ]
     },
     "execution_count": 3,
     "metadata": {},
     "output_type": "execute_result"
    }
   ],
   "source": [
    "# np.array()\n",
    "arr = np.array([1,2,3])\n",
    "arr"
   ]
  },
  {
   "cell_type": "code",
   "execution_count": 9,
   "id": "94396d0a",
   "metadata": {},
   "outputs": [
    {
     "name": "stdout",
     "output_type": "stream",
     "text": [
      "[[0. 0. 0.]\n",
      " [0. 0. 0.]\n",
      " [0. 0. 0.]]\n",
      "[[1. 1.]\n",
      " [1. 1.]]\n",
      "[[1. 1.]\n",
      " [1. 1.]]\n",
      "(3, 3)\n"
     ]
    }
   ],
   "source": [
    "# np.zeros(), np.ones(), np.empty()\n",
    "zeros_arr = np.zeros((3,3))\n",
    "print(zeros_arr)\n",
    "ones_arr = np.ones((2,2))\n",
    "print(ones_arr)\n",
    "empty_arr = np.empty((2,2))\n",
    "print(empty_arr)\n",
    "print(zeros_arr.shape)"
   ]
  },
  {
   "cell_type": "code",
   "execution_count": 13,
   "id": "c7eac3a5",
   "metadata": {},
   "outputs": [
    {
     "name": "stdout",
     "output_type": "stream",
     "text": [
      "5\n",
      "()\n"
     ]
    }
   ],
   "source": [
    "arr_1d = np.array(5)\n",
    "print(arr_1d)\n",
    "print(arr_1d.shape)"
   ]
  },
  {
   "cell_type": "markdown",
   "id": "5987a534",
   "metadata": {},
   "source": [
    "### 2. Array operation"
   ]
  },
  {
   "cell_type": "markdown",
   "id": "6bc16da6",
   "metadata": {},
   "source": [
    "##### a. Arithmatic Operations"
   ]
  },
  {
   "cell_type": "code",
   "execution_count": 16,
   "id": "d851a14f",
   "metadata": {},
   "outputs": [
    {
     "name": "stdout",
     "output_type": "stream",
     "text": [
      "Addition: \n",
      " [[ 6  8]\n",
      " [10 12]]\n",
      "Subtraction: \n",
      " [[-4 -4]\n",
      " [-4 -4]]\n",
      "Point wise multiplication: \n",
      " [[ 5 12]\n",
      " [21 32]]\n",
      "Point wise division: \n",
      " [[0.2        0.33333333]\n",
      " [0.42857143 0.5       ]]\n"
     ]
    }
   ],
   "source": [
    "# Pointwise Operations (Add, Sub, Mul, Div)\n",
    "arr1 = np.array([[1,2],[3,4]])\n",
    "arr2 = np.array([[5,6],[7,8]])\n",
    "\n",
    "addition =arr1+arr2\n",
    "print(\"Addition: \\n\",addition)\n",
    "subtraction = arr1-arr2\n",
    "print(\"Subtraction: \\n\",subtraction)\n",
    "multiplication = arr1 * arr2\n",
    "print(\"Point wise multiplication: \\n\",multiplication)\n",
    "division = arr1/arr2\n",
    "print(\"Point wise division: \\n\", division)"
   ]
  },
  {
   "cell_type": "markdown",
   "id": "55a0f752",
   "metadata": {},
   "source": [
    "##### b. Matrix Multiplication"
   ]
  },
  {
   "cell_type": "code",
   "execution_count": 17,
   "id": "6df061eb",
   "metadata": {},
   "outputs": [
    {
     "name": "stdout",
     "output_type": "stream",
     "text": [
      "Matrix multiplication: \n",
      " [[19 22]\n",
      " [43 50]]\n"
     ]
    }
   ],
   "source": [
    "arr1 = np.array([[1,2],[3,4]])\n",
    "arr2 = np.array([[5,6],[7,8]])\n",
    "\n",
    "matrix_multiply = np.dot(arr1,arr2)\n",
    "print(\"Matrix multiplication: \\n\",matrix_multiply)"
   ]
  },
  {
   "cell_type": "markdown",
   "id": "7ea1afbe",
   "metadata": {},
   "source": [
    "##### c. Transpose of matrix"
   ]
  },
  {
   "cell_type": "code",
   "execution_count": 18,
   "id": "5b2c1d85",
   "metadata": {},
   "outputs": [
    {
     "name": "stdout",
     "output_type": "stream",
     "text": [
      "transposed matrix:  [[1 3]\n",
      " [2 4]]\n"
     ]
    }
   ],
   "source": [
    "transposed_arr = arr1.T\n",
    "print(\"transposed matrix: \", transposed_arr)"
   ]
  },
  {
   "cell_type": "markdown",
   "id": "599773a3",
   "metadata": {},
   "source": [
    "### 3. Universal Functions(ufuncs)"
   ]
  },
  {
   "cell_type": "markdown",
   "id": "c4d9d520",
   "metadata": {},
   "source": [
    "##### a. np.sum(), np.mean(), np.std(), np.min(), np.max()"
   ]
  },
  {
   "cell_type": "code",
   "execution_count": 20,
   "id": "8be83887",
   "metadata": {},
   "outputs": [
    {
     "name": "stdout",
     "output_type": "stream",
     "text": [
      "Total: 10\n",
      ", Average: 2.5\n",
      ", STD deviation: 1.118033988749895\n",
      ", Min value: 1, Max Value: 4\n"
     ]
    }
   ],
   "source": [
    "arr1 = np.array([[1,2],[3,4]])\n",
    "\n",
    "total = np.sum(arr1)\n",
    "average = np.mean(arr1)\n",
    "standard_deviation = np.std(arr1)\n",
    "minimum_value = np.min(arr1)\n",
    "maximum_value = np.max(arr1)\n",
    "\n",
    "print(f\"Total: {total}\\n, Average: {average}\\n, STD deviation: {standard_deviation}\\n, Min value: {minimum_value}, Max Value: {maximum_value}\")"
   ]
  },
  {
   "cell_type": "markdown",
   "id": "c0a4db46",
   "metadata": {},
   "source": [
    "### 4. Array Manipulation"
   ]
  },
  {
   "cell_type": "markdown",
   "id": "c3cbf96b",
   "metadata": {},
   "source": [
    "##### a. Reshaping"
   ]
  },
  {
   "cell_type": "code",
   "execution_count": 21,
   "id": "e3209dfe",
   "metadata": {},
   "outputs": [
    {
     "name": "stdout",
     "output_type": "stream",
     "text": [
      "(4,)\n",
      "(2, 2)\n"
     ]
    }
   ],
   "source": [
    "arr = np.array([1,2,3,4])\n",
    "print(arr.shape)\n",
    "reshaped_arr = arr.reshape((2,2))\n",
    "print(reshaped_arr.shape)"
   ]
  },
  {
   "cell_type": "markdown",
   "id": "4379f8e9",
   "metadata": {},
   "source": [
    "##### b. Flattening"
   ]
  },
  {
   "cell_type": "code",
   "execution_count": 23,
   "id": "82bddc4a",
   "metadata": {},
   "outputs": [
    {
     "name": "stdout",
     "output_type": "stream",
     "text": [
      "[1 2 3 4]\n"
     ]
    }
   ],
   "source": [
    "flattened_arr = reshaped_arr.flatten()\n",
    "print(flattened_arr)"
   ]
  },
  {
   "cell_type": "markdown",
   "id": "3bcfcedc",
   "metadata": {},
   "source": [
    "### 5. Indexing and slicing"
   ]
  },
  {
   "cell_type": "code",
   "execution_count": 26,
   "id": "44cc18e2",
   "metadata": {},
   "outputs": [
    {
     "name": "stdout",
     "output_type": "stream",
     "text": [
      "[ 0  1  2  3  4  5  6  7  8  9 10 11 12 13 14 15]\n",
      "[[ 0  1  2  3]\n",
      " [ 4  5  6  7]\n",
      " [ 8  9 10 11]\n",
      " [12 13 14 15]]\n",
      "[[4 5]\n",
      " [8 9]]\n"
     ]
    }
   ],
   "source": [
    "l = [i for i in range(16)]\n",
    "arr = np.array(l)\n",
    "print(arr)\n",
    "reshaped_arr = arr.reshape((4,4))\n",
    "print(reshaped_arr)\n",
    "subset = reshaped_arr[1:3,0:2]\n",
    "print(subset)"
   ]
  },
  {
   "cell_type": "markdown",
   "id": "573e6bd9",
   "metadata": {},
   "source": [
    "### 6. Broadcasting"
   ]
  },
  {
   "cell_type": "code",
   "execution_count": 28,
   "id": "91538ac9",
   "metadata": {},
   "outputs": [
    {
     "data": {
      "text/plain": [
       "array([3, 4, 5])"
      ]
     },
     "execution_count": 28,
     "metadata": {},
     "output_type": "execute_result"
    }
   ],
   "source": [
    "# NumPy performs broadcasting when performing operations on arrays of different shapes.\n",
    "# Broadcasting is applying same operation to all the elements\n",
    "arr1 = np.array([1, 2, 3])\n",
    "arr2 = 2\n",
    "\n",
    "result = arr1 + arr2\n",
    "result"
   ]
  },
  {
   "cell_type": "markdown",
   "id": "f2d296da",
   "metadata": {},
   "source": [
    "### 7. Random Module"
   ]
  },
  {
   "cell_type": "code",
   "execution_count": 29,
   "id": "626aab4f",
   "metadata": {},
   "outputs": [
    {
     "name": "stdout",
     "output_type": "stream",
     "text": [
      "[[0.78695873 0.68891677 0.08227426]\n",
      " [0.91877707 0.5124185  0.6263693 ]\n",
      " [0.49237842 0.25410694 0.19969274]]\n"
     ]
    }
   ],
   "source": [
    "random_arr = np.random.rand(3,3) # uniform distribution\n",
    "print(random_arr)"
   ]
  },
  {
   "cell_type": "markdown",
   "id": "b163d767",
   "metadata": {},
   "source": [
    "### 8. Linear Algebra"
   ]
  },
  {
   "cell_type": "code",
   "execution_count": 31,
   "id": "fe58e74f",
   "metadata": {},
   "outputs": [
    {
     "name": "stdout",
     "output_type": "stream",
     "text": [
      "[ 1.61918183+0.j         -0.06005593+0.14480625j -0.06005593-0.14480625j]\n",
      "[[ 0.61915889+0.j         -0.56875632-0.13183234j -0.56875632+0.13183234j]\n",
      " [ 0.7071869 +0.j          0.70422193+0.j          0.70422193-0.j        ]\n",
      " [ 0.34136337+0.j          0.19064027+0.35618008j  0.19064027-0.35618008j]]\n"
     ]
    }
   ],
   "source": [
    "eigenvalues, eigenvectors = np.linalg.eig(random_arr)\n",
    "print(eigenvalues)\n",
    "print(eigenvectors)"
   ]
  },
  {
   "cell_type": "markdown",
   "id": "6d75725d",
   "metadata": {},
   "source": [
    "# Vectors"
   ]
  },
  {
   "cell_type": "markdown",
   "id": "53bf9f3e",
   "metadata": {},
   "source": [
    "##### 1.Dot Product"
   ]
  },
  {
   "cell_type": "code",
   "execution_count": 33,
   "id": "91dada86",
   "metadata": {},
   "outputs": [
    {
     "name": "stdout",
     "output_type": "stream",
     "text": [
      "Dot Product: 32\n"
     ]
    }
   ],
   "source": [
    "vector1 = np.array([1, 2, 3])\n",
    "vector2 = np.array([4, 5, 6])\n",
    "\n",
    "dot_product = np.dot(vector1, vector2)\n",
    "print(\"Dot Product:\", dot_product)"
   ]
  },
  {
   "cell_type": "markdown",
   "id": "8a46a33a",
   "metadata": {},
   "source": [
    "##### 2. Cross Product"
   ]
  },
  {
   "cell_type": "code",
   "execution_count": 34,
   "id": "80093c64",
   "metadata": {},
   "outputs": [
    {
     "name": "stdout",
     "output_type": "stream",
     "text": [
      "Cross Product: [-3  6 -3]\n"
     ]
    }
   ],
   "source": [
    "cross_product = np.cross(vector1, vector2)\n",
    "print(\"Cross Product:\", cross_product)"
   ]
  },
  {
   "cell_type": "markdown",
   "id": "b30fb0dc",
   "metadata": {},
   "source": [
    "##### 3. Magnitude of a vector"
   ]
  },
  {
   "cell_type": "code",
   "execution_count": 36,
   "id": "6ee2ac20",
   "metadata": {},
   "outputs": [
    {
     "name": "stdout",
     "output_type": "stream",
     "text": [
      "Magnitude: 3.7416573867739413\n"
     ]
    }
   ],
   "source": [
    "magnitude = np.linalg.norm(vector1)\n",
    "print(\"Magnitude:\", magnitude)"
   ]
  },
  {
   "cell_type": "markdown",
   "id": "e025b0d3",
   "metadata": {},
   "source": [
    "##### 4. Unit vector"
   ]
  },
  {
   "cell_type": "code",
   "execution_count": 38,
   "id": "35a8acd6",
   "metadata": {},
   "outputs": [
    {
     "name": "stdout",
     "output_type": "stream",
     "text": [
      "Unit Vector: [0.26726124 0.53452248 0.80178373]\n"
     ]
    }
   ],
   "source": [
    "unit_vector = vector1/ np.linalg.norm(vector1)\n",
    "print(\"Unit Vector:\", unit_vector)"
   ]
  },
  {
   "cell_type": "markdown",
   "id": "e2199981",
   "metadata": {},
   "source": [
    "##### 5.Angle between vectors "
   ]
  },
  {
   "cell_type": "code",
   "execution_count": 39,
   "id": "d89370cd",
   "metadata": {},
   "outputs": [
    {
     "name": "stdout",
     "output_type": "stream",
     "text": [
      "Angle (degrees): 12.933154491899135\n"
     ]
    }
   ],
   "source": [
    "cosine_similarity = np.dot(vector1, vector2)/(np.linalg.norm(vector1) * np.linalg.norm(vector2))\n",
    "angle_radians = np.arccos(cosine_similarity)\n",
    "angle_degrees = np.degrees(angle_radians)\n",
    "print(\"Angle (degrees):\", angle_degrees)"
   ]
  },
  {
   "cell_type": "markdown",
   "id": "66674561",
   "metadata": {},
   "source": [
    "##### 6. Projection of a vector onto another "
   ]
  },
  {
   "cell_type": "code",
   "execution_count": 40,
   "id": "945c327f",
   "metadata": {},
   "outputs": [
    {
     "name": "stdout",
     "output_type": "stream",
     "text": [
      "Projection: [1.66233766 2.07792208 2.49350649]\n"
     ]
    }
   ],
   "source": [
    "projection = np.dot(vector1,vector2)/ np.linalg.norm(vector2) * (vector2/np.linalg.norm(vector2))\n",
    "print(\"Projection:\", projection)"
   ]
  },
  {
   "cell_type": "markdown",
   "id": "39dee352",
   "metadata": {},
   "source": [
    "##### 7. Element-wise Operation"
   ]
  },
  {
   "cell_type": "code",
   "execution_count": 41,
   "id": "b0e96d71",
   "metadata": {},
   "outputs": [
    {
     "name": "stdout",
     "output_type": "stream",
     "text": [
      "Element-wise Sum: [5 7 9]\n",
      "Element-wise Difference: [-3 -3 -3]\n",
      "Element-wise Multiplication: [ 4 10 18]\n",
      "Element-wise Division: [0.25 0.4  0.5 ]\n"
     ]
    }
   ],
   "source": [
    "elementwise_sum = vector1 + vector2\n",
    "elementwise_difference = vector1 - vector2\n",
    "elementwise_multiplication = vector1 * vector2\n",
    "elementwise_division = vector1 / vector2\n",
    "\n",
    "print(\"Element-wise Sum:\", elementwise_sum)\n",
    "print(\"Element-wise Difference:\", elementwise_difference)\n",
    "print(\"Element-wise Multiplication:\", elementwise_multiplication)\n",
    "print(\"Element-wise Division:\", elementwise_division)"
   ]
  },
  {
   "cell_type": "markdown",
   "id": "8af11e67",
   "metadata": {},
   "source": [
    "##### 8. Vector Stacking"
   ]
  },
  {
   "cell_type": "code",
   "execution_count": 42,
   "id": "3268c9bc",
   "metadata": {},
   "outputs": [
    {
     "name": "stdout",
     "output_type": "stream",
     "text": [
      "Vertically Stacked Vector:\n",
      " [[1 2 3]\n",
      " [4 5 6]]\n"
     ]
    }
   ],
   "source": [
    "stacked_vector = np.vstack((vector1,vector2)) #vertically stacked\n",
    "print(\"Vertically Stacked Vector:\\n\", stacked_vector)"
   ]
  },
  {
   "cell_type": "markdown",
   "id": "4cec9c6c",
   "metadata": {},
   "source": [
    "##### 9. Element-wise Functions"
   ]
  },
  {
   "cell_type": "code",
   "execution_count": 44,
   "id": "cf8c34f9",
   "metadata": {},
   "outputs": [
    {
     "name": "stdout",
     "output_type": "stream",
     "text": [
      "Sin Vector: [0.84147098 0.90929743 0.14112001]\n",
      "Cos Vector: [ 0.54030231 -0.41614684 -0.9899925 ]\n",
      "Exponential Vector: [ 2.71828183  7.3890561  20.08553692]\n"
     ]
    }
   ],
   "source": [
    "sin_vector = np.sin(vector1)\n",
    "cos_vector = np.cos(vector1)\n",
    "exp_vector = np.exp(vector1)\n",
    "\n",
    "print(\"Sin Vector:\", sin_vector)\n",
    "print(\"Cos Vector:\", cos_vector)\n",
    "print(\"Exponential Vector:\", exp_vector)"
   ]
  },
  {
   "cell_type": "markdown",
   "id": "b5f79f57",
   "metadata": {},
   "source": [
    "##### 10. Vector Comparison"
   ]
  },
  {
   "cell_type": "code",
   "execution_count": 45,
   "id": "e0aa3815",
   "metadata": {},
   "outputs": [
    {
     "name": "stdout",
     "output_type": "stream",
     "text": [
      "Vector Comparison (element-wise greater than): [False False False]\n"
     ]
    }
   ],
   "source": [
    "vector_comparison=(vector1>vector2)\n",
    "print(\"Vector Comparison (element-wise greater than):\", vector_comparison)"
   ]
  },
  {
   "cell_type": "markdown",
   "id": "4eb76c3e",
   "metadata": {},
   "source": [
    "##### 11. Cummulative sum"
   ]
  },
  {
   "cell_type": "code",
   "execution_count": 46,
   "id": "8ab25094",
   "metadata": {},
   "outputs": [
    {
     "name": "stdout",
     "output_type": "stream",
     "text": [
      "Cumulative Sum: [1 3 6]\n"
     ]
    }
   ],
   "source": [
    "cumulative_sum = np.cumsum(vector1)\n",
    "print(\"Cumulative Sum:\", cumulative_sum)"
   ]
  },
  {
   "cell_type": "markdown",
   "id": "887c984d",
   "metadata": {},
   "source": [
    "##### 12. Sorting"
   ]
  },
  {
   "cell_type": "code",
   "execution_count": 47,
   "id": "6e969998",
   "metadata": {},
   "outputs": [
    {
     "name": "stdout",
     "output_type": "stream",
     "text": [
      "Sorted Vector: [1 2 3]\n"
     ]
    }
   ],
   "source": [
    "sorted_vector =np.sort(vector1)\n",
    "print(\"Sorted Vector:\", sorted_vector)"
   ]
  },
  {
   "cell_type": "markdown",
   "id": "3e73bcc1",
   "metadata": {},
   "source": [
    "# Linear Algebra"
   ]
  },
  {
   "cell_type": "markdown",
   "id": "33052159",
   "metadata": {},
   "source": [
    "##### 1. Matrix Inversion"
   ]
  },
  {
   "cell_type": "code",
   "execution_count": 49,
   "id": "211b6e9f",
   "metadata": {},
   "outputs": [
    {
     "name": "stdout",
     "output_type": "stream",
     "text": [
      "[[1 2]\n",
      " [3 4]]\n",
      "Inverse Matrix: \n",
      " [[-2.   1. ]\n",
      " [ 1.5 -0.5]]\n"
     ]
    }
   ],
   "source": [
    "matrix = np.array([[1,2],[3,4]])\n",
    "print(matrix)\n",
    "inverse_matrix = np.linalg.inv(matrix)\n",
    "print(\"Inverse Matrix: \\n\", inverse_matrix)"
   ]
  },
  {
   "cell_type": "markdown",
   "id": "978668e0",
   "metadata": {},
   "source": [
    "##### 2. Solving linear equation"
   ]
  },
  {
   "cell_type": "code",
   "execution_count": 52,
   "id": "296c1472",
   "metadata": {},
   "outputs": [
    {
     "name": "stdout",
     "output_type": "stream",
     "text": [
      "Solution to the linear equations:  [0.57142857 2.28571429]\n"
     ]
    }
   ],
   "source": [
    "coefficients = np.array([[2,3],[1,-2]])\n",
    "constants = np.array([8,-4])\n",
    "\n",
    "solution = np.linalg.solve(coefficients, constants)\n",
    "print(\"Solution to the linear equations: \",solution)"
   ]
  },
  {
   "cell_type": "markdown",
   "id": "26b11b02",
   "metadata": {},
   "source": [
    "##### 3. Determinant of a matrix"
   ]
  },
  {
   "cell_type": "code",
   "execution_count": 53,
   "id": "9c6311ae",
   "metadata": {},
   "outputs": [
    {
     "name": "stdout",
     "output_type": "stream",
     "text": [
      "Determinant of the matrix:  -2.0000000000000004\n"
     ]
    }
   ],
   "source": [
    "determinant = np.linalg.det(matrix)\n",
    "print(\"Determinant of the matrix: \",determinant)"
   ]
  },
  {
   "cell_type": "markdown",
   "id": "f2595958",
   "metadata": {},
   "source": [
    "##### 4. Eigen Value and Eigen Vector"
   ]
  },
  {
   "cell_type": "code",
   "execution_count": 54,
   "id": "b48d974e",
   "metadata": {},
   "outputs": [
    {
     "name": "stdout",
     "output_type": "stream",
     "text": [
      "Eigenvalues: [-0.37228132  5.37228132]\n",
      "Eigenvectors:\n",
      " [[-0.82456484 -0.41597356]\n",
      " [ 0.56576746 -0.90937671]]\n"
     ]
    }
   ],
   "source": [
    "eigenvalues, eigenvectors = np.linalg.eig(matrix)\n",
    "print(\"Eigenvalues:\", eigenvalues)\n",
    "print(\"Eigenvectors:\\n\", eigenvectors)"
   ]
  },
  {
   "cell_type": "markdown",
   "id": "613e0b23",
   "metadata": {},
   "source": [
    "##### 5. Singular value decomposition (SVD)"
   ]
  },
  {
   "cell_type": "code",
   "execution_count": 56,
   "id": "5f47e153",
   "metadata": {},
   "outputs": [
    {
     "name": "stdout",
     "output_type": "stream",
     "text": [
      "U matrix:\n",
      " [[-0.40455358 -0.9145143 ]\n",
      " [-0.9145143   0.40455358]]\n",
      "S matrix:\n",
      " [5.4649857  0.36596619]\n",
      "V matrix:\n",
      " [[-0.57604844 -0.81741556]\n",
      " [ 0.81741556 -0.57604844]]\n"
     ]
    }
   ],
   "source": [
    "matrix = np.array([[1,2],[3,4]])\n",
    "U,S,V = np.linalg.svd(matrix)\n",
    "print(\"U matrix:\\n\", U)\n",
    "print(\"S matrix:\\n\", S)\n",
    "print(\"V matrix:\\n\", V)"
   ]
  },
  {
   "cell_type": "markdown",
   "id": "9f2beb48",
   "metadata": {},
   "source": [
    "##### 6. Boolean Indexing"
   ]
  },
  {
   "cell_type": "code",
   "execution_count": 57,
   "id": "e310f337",
   "metadata": {},
   "outputs": [
    {
     "name": "stdout",
     "output_type": "stream",
     "text": [
      "Filtered Array:  [3 4 5]\n"
     ]
    }
   ],
   "source": [
    "array = np.array([1,2,3,4,5])\n",
    "mask = array>2\n",
    "filtered_array =array[mask]\n",
    "print(\"Filtered Array: \", filtered_array)"
   ]
  },
  {
   "cell_type": "markdown",
   "id": "cf0e2174",
   "metadata": {},
   "source": [
    "##### 7. Statistical operation"
   ]
  },
  {
   "cell_type": "code",
   "execution_count": 58,
   "id": "fa6a2de5",
   "metadata": {},
   "outputs": [],
   "source": [
    "mean_value = np.mean(array)\n",
    "median_value = np.median(array)\n",
    "std_deviation = np.std(array)"
   ]
  },
  {
   "cell_type": "markdown",
   "id": "cdcff8c6",
   "metadata": {},
   "source": [
    "##### 8. Concatenation"
   ]
  },
  {
   "cell_type": "code",
   "execution_count": 59,
   "id": "3bd84476",
   "metadata": {},
   "outputs": [
    {
     "name": "stdout",
     "output_type": "stream",
     "text": [
      "Concatenated Array: [1 2 3 4 5 6]\n"
     ]
    }
   ],
   "source": [
    "array1 = np.array([1, 2, 3])\n",
    "array2 = np.array([4, 5, 6])\n",
    "\n",
    "concatenated_array = np.concatenate((array1, array2))\n",
    "print(\"Concatenated Array:\", concatenated_array)"
   ]
  },
  {
   "cell_type": "markdown",
   "id": "03561dd1",
   "metadata": {},
   "source": [
    "##### 9. Unique Elements and Counts"
   ]
  },
  {
   "cell_type": "code",
   "execution_count": 60,
   "id": "507780b3",
   "metadata": {},
   "outputs": [
    {
     "name": "stdout",
     "output_type": "stream",
     "text": [
      "unique elements:  [1 2 3 4 5]\n",
      "Counts:  [1 1 1 1 1]\n"
     ]
    }
   ],
   "source": [
    "unique_elements, counts = np.unique(array, return_counts=True)\n",
    "print(\"unique elements: \", unique_elements)\n",
    "print(\"Counts: \", counts)"
   ]
  },
  {
   "cell_type": "markdown",
   "id": "a4d4d943",
   "metadata": {},
   "source": [
    "##### 10. Loading and Saving data"
   ]
  },
  {
   "cell_type": "code",
   "execution_count": null,
   "id": "ce7deed0",
   "metadata": {},
   "outputs": [],
   "source": [
    "np.savetxt('data.txt', array, delimiter=',')\n",
    "loaded_data = np.loadtxt('data.txt', delimiter=',')\n",
    "print(\"Loaded Data:\", loaded_data)"
   ]
  },
  {
   "cell_type": "markdown",
   "id": "1ccda672",
   "metadata": {},
   "source": [
    "# Other Operations"
   ]
  },
  {
   "cell_type": "markdown",
   "id": "4d8f722f",
   "metadata": {},
   "source": [
    "##### 1. Masked Arrays"
   ]
  },
  {
   "cell_type": "code",
   "execution_count": 61,
   "id": "e9f7fcdd",
   "metadata": {},
   "outputs": [
    {
     "name": "stdout",
     "output_type": "stream",
     "text": [
      "Masked Array: [-- -- 3 4 5]\n"
     ]
    }
   ],
   "source": [
    "import numpy.ma as ma\n",
    "\n",
    "masked_array = ma.masked_where(array < 3, array)\n",
    "print(\"Masked Array:\", masked_array)"
   ]
  },
  {
   "cell_type": "markdown",
   "id": "ac2f3437",
   "metadata": {},
   "source": [
    "##### 2. Polynomials"
   ]
  },
  {
   "cell_type": "code",
   "execution_count": 62,
   "id": "285f2e62",
   "metadata": {},
   "outputs": [
    {
     "name": "stdout",
     "output_type": "stream",
     "text": [
      "Polynomial:    2\n",
      "1 x - 2 x + 1\n",
      "Roots of the Polynomial: [1.+6.68896751e-09j 1.-6.68896751e-09j]\n"
     ]
    }
   ],
   "source": [
    "coefficients = [1, -2, 1]  # Represents x^2 - 2x + 1\n",
    "polynomial = np.poly1d(coefficients)\n",
    "roots = np.roots(coefficients)\n",
    "print(\"Polynomial:\", polynomial)\n",
    "print(\"Roots of the Polynomial:\", roots)"
   ]
  },
  {
   "cell_type": "markdown",
   "id": "b64e5528",
   "metadata": {},
   "source": [
    "##### 3. Interpolation"
   ]
  },
  {
   "cell_type": "code",
   "execution_count": 63,
   "id": "a8a6f6b5",
   "metadata": {},
   "outputs": [
    {
     "name": "stdout",
     "output_type": "stream",
     "text": [
      "Interpolated Values: [0.         0.88888889 1.77777778 1.66666667 1.22222222 1.44444444\n",
      " 2.33333333 3.11111111 3.55555556 4.        ]\n"
     ]
    }
   ],
   "source": [
    "from scipy.interpolate import interp1d\n",
    "\n",
    "x = np.array([0, 1, 2, 3, 4])\n",
    "y = np.array([0, 2, 1, 3, 4])\n",
    "\n",
    "interp_function = interp1d(x, y, kind='linear')\n",
    "new_x = np.linspace(0, 4, 10)\n",
    "interpolated_values = interp_function(new_x)\n",
    "print(\"Interpolated Values:\", interpolated_values)"
   ]
  },
  {
   "cell_type": "markdown",
   "id": "16c3caff",
   "metadata": {},
   "source": [
    "##### 4. Fourier Transform"
   ]
  },
  {
   "cell_type": "code",
   "execution_count": 64,
   "id": "babc1db5",
   "metadata": {},
   "outputs": [
    {
     "name": "stdout",
     "output_type": "stream",
     "text": [
      "Fourier Transform of Signal: [ 4.5       +0.j          2.08155948-1.65109876j -1.83155948+1.60822041j\n",
      " -1.83155948-1.60822041j  2.08155948+1.65109876j]\n"
     ]
    }
   ],
   "source": [
    "signal = np.array([1, 2, 1, -1, 1.5])\n",
    "fourier_transform = np.fft.fft(signal)\n",
    "print(\"Fourier Transform of Signal:\", fourier_transform)"
   ]
  },
  {
   "cell_type": "markdown",
   "id": "93eabf61",
   "metadata": {},
   "source": [
    "##### 5. Histogram "
   ]
  },
  {
   "cell_type": "code",
   "execution_count": 65,
   "id": "98a4b386",
   "metadata": {},
   "outputs": [
    {
     "name": "stdout",
     "output_type": "stream",
     "text": [
      "Histogram: [  4  15  60 139 233 227 183  97  36   6]\n",
      "Bin Edges: [-3.22558263 -2.61228217 -1.99898171 -1.38568124 -0.77238078 -0.15908031\n",
      "  0.45422015  1.06752061  1.68082108  2.29412154  2.907422  ]\n"
     ]
    }
   ],
   "source": [
    "data = np.random.randn(1000)\n",
    "hist, edges = np.histogram(data, bins=10)\n",
    "print(\"Histogram:\", hist)\n",
    "print(\"Bin Edges:\", edges)"
   ]
  },
  {
   "cell_type": "markdown",
   "id": "951cfc08",
   "metadata": {},
   "source": [
    "##### 6. Random Sampling"
   ]
  },
  {
   "cell_type": "code",
   "execution_count": 66,
   "id": "4f4b5902",
   "metadata": {},
   "outputs": [
    {
     "name": "stdout",
     "output_type": "stream",
     "text": [
      "Random Uniform: [0.02809389 0.87119913 0.45131436 0.15154473 0.19559658]\n",
      "Random Normal: [ 1.70925749  0.61606557 -0.02493951 -0.39188537 -0.19843772]\n"
     ]
    }
   ],
   "source": [
    "random_uniform = np.random.uniform(low=0, high=1, size=5)\n",
    "random_normal = np.random.normal(loc=0, scale=1, size=5)\n",
    "print(\"Random Uniform:\", random_uniform)\n",
    "print(\"Random Normal:\", random_normal)"
   ]
  },
  {
   "cell_type": "markdown",
   "id": "b4c4929a",
   "metadata": {},
   "source": [
    "##### 7. Vectorized String Operations"
   ]
  },
  {
   "cell_type": "code",
   "execution_count": 68,
   "id": "c5708143",
   "metadata": {},
   "outputs": [
    {
     "name": "stdout",
     "output_type": "stream",
     "text": [
      "Uppercase Strings: ['APPLE' 'BANANA' 'CHERRY']\n"
     ]
    }
   ],
   "source": [
    "strings = np.array(['apple', 'banana', 'cherry'])\n",
    "uppercase_strings = np.char.upper(strings)\n",
    "print(\"Uppercase Strings:\", uppercase_strings)"
   ]
  },
  {
   "cell_type": "markdown",
   "id": "6d239367",
   "metadata": {},
   "source": [
    "##### 8.  Cartesian Product"
   ]
  },
  {
   "cell_type": "code",
   "execution_count": 70,
   "id": "5f37e3b2",
   "metadata": {},
   "outputs": [
    {
     "ename": "AttributeError",
     "evalue": "module 'numpy' has no attribute 'cartesian'",
     "output_type": "error",
     "traceback": [
      "\u001b[1;31m---------------------------------------------------------------------------\u001b[0m",
      "\u001b[1;31mAttributeError\u001b[0m                            Traceback (most recent call last)",
      "Cell \u001b[1;32mIn[70], line 3\u001b[0m\n\u001b[0;32m      1\u001b[0m array1 \u001b[38;5;241m=\u001b[39m np\u001b[38;5;241m.\u001b[39marray([\u001b[38;5;241m1\u001b[39m, \u001b[38;5;241m2\u001b[39m])\n\u001b[0;32m      2\u001b[0m array2 \u001b[38;5;241m=\u001b[39m np\u001b[38;5;241m.\u001b[39marray([\u001b[38;5;124m'\u001b[39m\u001b[38;5;124ma\u001b[39m\u001b[38;5;124m'\u001b[39m, \u001b[38;5;124m'\u001b[39m\u001b[38;5;124mb\u001b[39m\u001b[38;5;124m'\u001b[39m])\n\u001b[1;32m----> 3\u001b[0m cartesian_product \u001b[38;5;241m=\u001b[39m \u001b[43mnp\u001b[49m\u001b[38;5;241;43m.\u001b[39;49m\u001b[43mcartesian\u001b[49m((array1, array2))\n\u001b[0;32m      4\u001b[0m \u001b[38;5;28mprint\u001b[39m(\u001b[38;5;124m\"\u001b[39m\u001b[38;5;124mCartesian Product:\u001b[39m\u001b[38;5;124m\"\u001b[39m, cartesian_product)\n",
      "File \u001b[1;32m~\\.conda\\envs\\venv_311\\Lib\\site-packages\\numpy\\__init__.py:333\u001b[0m, in \u001b[0;36m__getattr__\u001b[1;34m(attr)\u001b[0m\n\u001b[0;32m    330\u001b[0m     \u001b[38;5;124m\"\u001b[39m\u001b[38;5;124mRemoved in NumPy 1.25.0\u001b[39m\u001b[38;5;124m\"\u001b[39m\n\u001b[0;32m    331\u001b[0m     \u001b[38;5;28;01mraise\u001b[39;00m \u001b[38;5;167;01mRuntimeError\u001b[39;00m(\u001b[38;5;124m\"\u001b[39m\u001b[38;5;124mTester was removed in NumPy 1.25.\u001b[39m\u001b[38;5;124m\"\u001b[39m)\n\u001b[1;32m--> 333\u001b[0m \u001b[38;5;28;01mraise\u001b[39;00m \u001b[38;5;167;01mAttributeError\u001b[39;00m(\u001b[38;5;124m\"\u001b[39m\u001b[38;5;124mmodule \u001b[39m\u001b[38;5;132;01m{!r}\u001b[39;00m\u001b[38;5;124m has no attribute \u001b[39m\u001b[38;5;124m\"\u001b[39m\n\u001b[0;32m    334\u001b[0m                      \u001b[38;5;124m\"\u001b[39m\u001b[38;5;132;01m{!r}\u001b[39;00m\u001b[38;5;124m\"\u001b[39m\u001b[38;5;241m.\u001b[39mformat(\u001b[38;5;18m__name__\u001b[39m, attr))\n",
      "\u001b[1;31mAttributeError\u001b[0m: module 'numpy' has no attribute 'cartesian'"
     ]
    }
   ],
   "source": [
    "array1 = np.array([1, 2])\n",
    "array2 = np.array(['a', 'b'])\n",
    "cartesian_product = np.cartesian((array1, array2))\n",
    "print(\"Cartesian Product:\", cartesian_product)"
   ]
  },
  {
   "cell_type": "markdown",
   "id": "e16dc75a",
   "metadata": {},
   "source": [
    "##### 9. Vectorized Function"
   ]
  },
  {
   "cell_type": "code",
   "execution_count": 71,
   "id": "b095aedc",
   "metadata": {},
   "outputs": [
    {
     "name": "stdout",
     "output_type": "stream",
     "text": [
      "Squared Array: [1 4 9]\n"
     ]
    }
   ],
   "source": [
    "original_array = np.array([1, 2, 3])\n",
    "squared_array = np.vectorize(lambda x: x**2)(original_array)\n",
    "print(\"Squared Array:\", squared_array)"
   ]
  },
  {
   "cell_type": "markdown",
   "id": "4664eed4",
   "metadata": {},
   "source": [
    "##### 10. Ravel"
   ]
  },
  {
   "cell_type": "code",
   "execution_count": 72,
   "id": "830b7628",
   "metadata": {},
   "outputs": [
    {
     "name": "stdout",
     "output_type": "stream",
     "text": [
      "Flattened Array: [1 2 3 4 5 6]\n"
     ]
    }
   ],
   "source": [
    "multi_dim_array = np.array([[1, 2, 3], [4, 5, 6]])\n",
    "flattened_array = multi_dim_array.ravel()\n",
    "print(\"Flattened Array:\", flattened_array)"
   ]
  },
  {
   "cell_type": "markdown",
   "id": "fc239e57",
   "metadata": {},
   "source": [
    "##### 11. Stacking"
   ]
  },
  {
   "cell_type": "code",
   "execution_count": 73,
   "id": "f47e139a",
   "metadata": {},
   "outputs": [
    {
     "name": "stdout",
     "output_type": "stream",
     "text": [
      "Stacked Horizontally: ['1' '2' 'a' 'b']\n",
      "Stacked Vertically: [['1' '2']\n",
      " ['a' 'b']]\n"
     ]
    }
   ],
   "source": [
    "stacked_horizontal = np.hstack((array1, array2))\n",
    "stacked_vertical = np.vstack((array1, array2))\n",
    "print(\"Stacked Horizontally:\", stacked_horizontal)\n",
    "print(\"Stacked Vertically:\", stacked_vertical)"
   ]
  },
  {
   "cell_type": "markdown",
   "id": "a57066b0",
   "metadata": {},
   "source": [
    "##### 12. Splitting"
   ]
  },
  {
   "cell_type": "code",
   "execution_count": 75,
   "id": "dd656e19",
   "metadata": {},
   "outputs": [
    {
     "ename": "ValueError",
     "evalue": "array split does not result in an equal division",
     "output_type": "error",
     "traceback": [
      "\u001b[1;31m---------------------------------------------------------------------------\u001b[0m",
      "\u001b[1;31mValueError\u001b[0m                                Traceback (most recent call last)",
      "Cell \u001b[1;32mIn[75], line 2\u001b[0m\n\u001b[0;32m      1\u001b[0m array \u001b[38;5;241m=\u001b[39m np\u001b[38;5;241m.\u001b[39marray([\u001b[38;5;241m1\u001b[39m, \u001b[38;5;241m2\u001b[39m, \u001b[38;5;241m1\u001b[39m, \u001b[38;5;241m-\u001b[39m\u001b[38;5;241m1\u001b[39m, \u001b[38;5;241m1.5\u001b[39m])\n\u001b[1;32m----> 2\u001b[0m split_arrays \u001b[38;5;241m=\u001b[39m \u001b[43mnp\u001b[49m\u001b[38;5;241;43m.\u001b[39;49m\u001b[43msplit\u001b[49m\u001b[43m(\u001b[49m\u001b[43marray\u001b[49m\u001b[43m,\u001b[49m\u001b[43m \u001b[49m\u001b[38;5;241;43m2\u001b[39;49m\u001b[43m)\u001b[49m\n\u001b[0;32m      3\u001b[0m \u001b[38;5;28mprint\u001b[39m(\u001b[38;5;124m\"\u001b[39m\u001b[38;5;124mSplit Arrays:\u001b[39m\u001b[38;5;124m\"\u001b[39m, split_arrays)\n",
      "File \u001b[1;32m~\\.conda\\envs\\venv_311\\Lib\\site-packages\\numpy\\lib\\shape_base.py:864\u001b[0m, in \u001b[0;36msplit\u001b[1;34m(ary, indices_or_sections, axis)\u001b[0m\n\u001b[0;32m    862\u001b[0m     N \u001b[38;5;241m=\u001b[39m ary\u001b[38;5;241m.\u001b[39mshape[axis]\n\u001b[0;32m    863\u001b[0m     \u001b[38;5;28;01mif\u001b[39;00m N \u001b[38;5;241m%\u001b[39m sections:\n\u001b[1;32m--> 864\u001b[0m         \u001b[38;5;28;01mraise\u001b[39;00m \u001b[38;5;167;01mValueError\u001b[39;00m(\n\u001b[0;32m    865\u001b[0m             \u001b[38;5;124m'\u001b[39m\u001b[38;5;124marray split does not result in an equal division\u001b[39m\u001b[38;5;124m'\u001b[39m) \u001b[38;5;28;01mfrom\u001b[39;00m \u001b[38;5;28;01mNone\u001b[39;00m\n\u001b[0;32m    866\u001b[0m \u001b[38;5;28;01mreturn\u001b[39;00m array_split(ary, indices_or_sections, axis)\n",
      "\u001b[1;31mValueError\u001b[0m: array split does not result in an equal division"
     ]
    }
   ],
   "source": [
    "array = np.array([1, 2, 1, -1, 1.5])\n",
    "split_arrays = np.split(array, 2)\n",
    "print(\"Split Arrays:\", split_arrays)"
   ]
  },
  {
   "cell_type": "markdown",
   "id": "40fd465b",
   "metadata": {},
   "source": [
    "##### 13. Repeat and Tile"
   ]
  },
  {
   "cell_type": "code",
   "execution_count": 77,
   "id": "785e2171",
   "metadata": {},
   "outputs": [
    {
     "name": "stdout",
     "output_type": "stream",
     "text": [
      "Repeated Array: [1 1 1 2 2 2 3 3 3 4 4 4 5 5 5]\n",
      "Tiled Array: [1 2 3 4 5 1 2 3 4 5]\n"
     ]
    }
   ],
   "source": [
    "array = np.array([1,2,3,4,5])\n",
    "repeated_array = np.repeat(array, 3)\n",
    "tiled_array = np.tile(array, 2)\n",
    "print(\"Repeated Array:\", repeated_array)\n",
    "print(\"Tiled Array:\", tiled_array)"
   ]
  },
  {
   "cell_type": "markdown",
   "id": "49cc64d4",
   "metadata": {},
   "source": [
    "##### 14. Search Sorted"
   ]
  },
  {
   "cell_type": "code",
   "execution_count": 79,
   "id": "e707284d",
   "metadata": {},
   "outputs": [
    {
     "name": "stdout",
     "output_type": "stream",
     "text": [
      "Indices: 1\n"
     ]
    }
   ],
   "source": [
    "sorted_array = np.sort(array)\n",
    "indices = np.searchsorted(sorted_array, 2)\n",
    "print(\"Indices:\", indices)"
   ]
  },
  {
   "cell_type": "markdown",
   "id": "0219b732",
   "metadata": {},
   "source": [
    "##### 15. Gradient"
   ]
  },
  {
   "cell_type": "code",
   "execution_count": 80,
   "id": "c726be8a",
   "metadata": {},
   "outputs": [
    {
     "name": "stdout",
     "output_type": "stream",
     "text": [
      "Gradient: [1. 1. 1. 1. 1.]\n"
     ]
    }
   ],
   "source": [
    "gradient = np.gradient(array)\n",
    "print(\"Gradient:\", gradient)"
   ]
  },
  {
   "cell_type": "markdown",
   "id": "f60237be",
   "metadata": {},
   "source": [
    "##### 16. Histogram2d"
   ]
  },
  {
   "cell_type": "code",
   "execution_count": 82,
   "id": "69767cd4",
   "metadata": {},
   "outputs": [
    {
     "name": "stdout",
     "output_type": "stream",
     "text": [
      "2D Histogram: [[ 0.  1.  0.  2.  0.]\n",
      " [ 2.  8. 11. 10.  2.]\n",
      " [ 1.  6. 20.  9. 11.]\n",
      " [ 1.  3.  4.  3.  3.]\n",
      " [ 0.  1.  1.  0.  1.]]\n",
      "X Edges: [-2.72845069 -1.55517501 -0.38189934  0.79137633  1.96465201  3.13792768]\n",
      "Y Edges: [-2.60457229 -1.69774037 -0.79090845  0.11592347  1.02275539  1.92958732]\n"
     ]
    }
   ],
   "source": [
    "x = np.random.randn(100)\n",
    "y = np.random.randn(100)\n",
    "histogram, x_edges, y_edges = np.histogram2d(x, y, bins=(5, 5))\n",
    "print(\"2D Histogram:\", histogram)\n",
    "print(\"X Edges:\", x_edges)\n",
    "print(\"Y Edges:\", y_edges)"
   ]
  },
  {
   "cell_type": "markdown",
   "id": "c9072bbc",
   "metadata": {},
   "source": [
    "##### 17. Broadcasting"
   ]
  },
  {
   "cell_type": "code",
   "execution_count": 83,
   "id": "c098fe42",
   "metadata": {},
   "outputs": [
    {
     "name": "stdout",
     "output_type": "stream",
     "text": [
      "Broadcasting Result: [3 4 5]\n"
     ]
    }
   ],
   "source": [
    "array1 = np.array([1, 2, 3])\n",
    "scalar = 2\n",
    "result = array1 + scalar\n",
    "print(\"Broadcasting Result:\", result)\n"
   ]
  },
  {
   "cell_type": "code",
   "execution_count": null,
   "id": "ff5a6932",
   "metadata": {},
   "outputs": [],
   "source": []
  }
 ],
 "metadata": {
  "kernelspec": {
   "display_name": "venv_311",
   "language": "python",
   "name": "venv_311"
  },
  "language_info": {
   "codemirror_mode": {
    "name": "ipython",
    "version": 3
   },
   "file_extension": ".py",
   "mimetype": "text/x-python",
   "name": "python",
   "nbconvert_exporter": "python",
   "pygments_lexer": "ipython3",
   "version": "3.11.5"
  }
 },
 "nbformat": 4,
 "nbformat_minor": 5
}
