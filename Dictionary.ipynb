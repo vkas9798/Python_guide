{
 "cells": [
  {
   "cell_type": "markdown",
   "id": "55be7e0b",
   "metadata": {},
   "source": [
    "### Dictionary"
   ]
  },
  {
   "cell_type": "code",
   "execution_count": null,
   "id": "dfcdb237",
   "metadata": {},
   "outputs": [],
   "source": [
    "keys = ['Ten','Twenty','Thirty']\n",
    "values = [10,20,30]\n",
    "\n",
    "import sys\n",
    "d={}\n"
   ]
  }
 ],
 "metadata": {
  "kernelspec": {
   "display_name": "venv_311",
   "language": "python",
   "name": "venv_311"
  },
  "language_info": {
   "codemirror_mode": {
    "name": "ipython",
    "version": 3
   },
   "file_extension": ".py",
   "mimetype": "text/x-python",
   "name": "python",
   "nbconvert_exporter": "python",
   "pygments_lexer": "ipython3",
   "version": "3.11.5"
  }
 },
 "nbformat": 4,
 "nbformat_minor": 5
}
