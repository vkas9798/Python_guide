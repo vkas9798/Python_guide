{
 "cells": [
  {
   "cell_type": "markdown",
   "id": "55be7e0b",
   "metadata": {},
   "source": [
    "### Dictionary"
   ]
  },
  {
   "cell_type": "markdown",
   "id": "84ede02d",
   "metadata": {},
   "source": [
    "Creating a dictionary"
   ]
  },
  {
   "cell_type": "code",
   "execution_count": 1,
   "id": "dfcdb237",
   "metadata": {},
   "outputs": [
    {
     "name": "stdout",
     "output_type": "stream",
     "text": [
      "{'Ten': 10, 'Twenty': 20, 'Thirty': 30}\n"
     ]
    }
   ],
   "source": [
    "# # Convert Two list into a dictionary\n",
    "\n",
    "keys = ['Ten','Twenty','Thirty']\n",
    "values = [10,20,30]\n",
    "\n",
    "import sys\n",
    "d={}\n",
    "\n",
    "if len(keys)!= len(values):\n",
    "    print(\"Both the list should of same length to form a dictionary\")\n",
    "    sys.exit()\n",
    "    \n",
    "for i in range(len(keys)):\n",
    "    d[keys[i]]=values[i]\n",
    "    \n",
    "print(d)\n"
   ]
  },
  {
   "cell_type": "code",
   "execution_count": 2,
   "id": "53a7e433",
   "metadata": {},
   "outputs": [
    {
     "name": "stdout",
     "output_type": "stream",
     "text": [
      "{'Ten': 10, 'Twenty': 20, 'Thirty': 30, 'Fourty': 40, 'Fifty': 50}\n"
     ]
    }
   ],
   "source": [
    "# Merge two python dictionary into one\n",
    "\n",
    "dict1 = {'Ten': 10, 'Twenty': 20, 'Thirty': 30}\n",
    "dict2 = {'Thirty': 30, 'Fourty': 40, 'Fifty': 50} \n",
    "\n",
    "d =dict(dict1)\n",
    "d.update(dict(dict2))\n",
    "print(d)\n"
   ]
  },
  {
   "cell_type": "code",
   "execution_count": 4,
   "id": "d8b0b05b",
   "metadata": {},
   "outputs": [
    {
     "name": "stdout",
     "output_type": "stream",
     "text": [
      "{'name': 'Kelly', 'salary': 8000}\n"
     ]
    }
   ],
   "source": [
    "# Create a dictionary by extracting the keys from a given dictionary\n",
    "\n",
    "sample_dict = {\n",
    "    \"name\": \"Kelly\",\n",
    "    \"age\": 25,\n",
    "    \"salary\": 8000,\n",
    "    \"city\": \"New york\"}\n",
    "\n",
    "# Keys to extract\n",
    "keys = [\"name\", \"salary\"]\n",
    "\n",
    "# Expected Output: {'name': 'Kelly', 'salary': 8000}\n",
    "\n",
    "d = {}\n",
    "\n",
    "for i in keys:\n",
    "    d[i] = sample_dict[i]\n",
    "\n",
    "print(d)\n",
    "    "
   ]
  },
  {
   "cell_type": "code",
   "execution_count": 5,
   "id": "5579b013",
   "metadata": {},
   "outputs": [
    {
     "name": "stdout",
     "output_type": "stream",
     "text": [
      "{'age': 25, 'city': 'New york'}\n"
     ]
    }
   ],
   "source": [
    "# Delete a list of keys from dictionary\n",
    "sample_dict = {\n",
    "    \"name\": \"Kelly\",\n",
    "    \"age\": 25,\n",
    "    \"salary\": 8000,\n",
    "    \"city\": \"New york\"\n",
    "}\n",
    "\n",
    "# Keys to remove\n",
    "keys = [\"name\", \"salary\"]\n",
    "\n",
    "d={}\n",
    "for i in sample_dict.keys():\n",
    "    if i not in keys:\n",
    "        d[i]=sample_dict[i]\n",
    "        \n",
    "print(d)\n"
   ]
  },
  {
   "cell_type": "code",
   "execution_count": 6,
   "id": "97ee43ce",
   "metadata": {},
   "outputs": [
    {
     "name": "stdout",
     "output_type": "stream",
     "text": [
      "{'age': 25, 'city': 'New york'}\n"
     ]
    }
   ],
   "source": [
    "sample_dict2=sample_dict.copy()\n",
    "for i in keys:\n",
    "    sample_dict2.pop(i)\n",
    "    \n",
    "print(sample_dict2)"
   ]
  },
  {
   "cell_type": "code",
   "execution_count": 7,
   "id": "2eb0585e",
   "metadata": {},
   "outputs": [
    {
     "name": "stdout",
     "output_type": "stream",
     "text": [
      "Math\n"
     ]
    }
   ],
   "source": [
    "# Get the key of a minimum value from the following dictionary\n",
    "\n",
    "#Input:\n",
    "sample_dict = {\n",
    "  'Physics': 82,\n",
    "  'Math': 65,\n",
    "  'history': 75\n",
    "}\n",
    "\n",
    "min=float('inf')\n",
    "res=None\n",
    "for key,value in sample_dict.items():\n",
    "    if value<min:\n",
    "        min=value\n",
    "        res=key\n",
    "print(res)"
   ]
  },
  {
   "cell_type": "code",
   "execution_count": 17,
   "id": "46b72a92",
   "metadata": {},
   "outputs": [
    {
     "name": "stdout",
     "output_type": "stream",
     "text": [
      "['Physics', 'Math', 'history']\n"
     ]
    }
   ],
   "source": [
    "# Get dictionary keys as a list\n",
    "\n",
    "#Input:\n",
    "sample_dict = {\n",
    "  'Physics': 82,\n",
    "  'Math': 65,\n",
    "  'history': 75\n",
    "}\n",
    "\n",
    "l = [key for key,value in sample_dict.items()]\n",
    "print(l)"
   ]
  },
  {
   "cell_type": "code",
   "execution_count": 21,
   "id": "bf246671",
   "metadata": {},
   "outputs": [
    {
     "name": "stdout",
     "output_type": "stream",
     "text": [
      "{'chemistry': 89, 'Physics': 82, 'history': 75, 'Math': 65, 'GK': 50}\n"
     ]
    }
   ],
   "source": [
    "# Sort dictionary by values - descending scores\n",
    "\n",
    "#Input:\n",
    "sample_dict = {\n",
    "    'Physics': 82,\n",
    "    'Math': 65,\n",
    "    'history': 75,\n",
    "    'chemistry': 89,\n",
    "    'GK': 50   \n",
    "}\n",
    "\n",
    "sorted_dict = sorted(sample_dict.items(), key=lambda x:x[1],reverse=True)\n",
    "print(dict(sorted_dict))"
   ]
  },
  {
   "cell_type": "code",
   "execution_count": 22,
   "id": "ded8d69c",
   "metadata": {},
   "outputs": [
    {
     "name": "stdout",
     "output_type": "stream",
     "text": [
      "{'GK': 50, 'Math': 65, 'history': 75, 'Physics': 82, 'chemistry': 89}\n"
     ]
    }
   ],
   "source": [
    "sorted_dict = sorted(sample_dict.items(), key = lambda x:x[1], reverse=False)\n",
    "print(dict(sorted_dict))"
   ]
  },
  {
   "cell_type": "code",
   "execution_count": 23,
   "id": "ffaea4b2",
   "metadata": {},
   "outputs": [
    {
     "name": "stdout",
     "output_type": "stream",
     "text": [
      "{'chemistry': 89, 'Physics': 82, 'history': 75, 'Math': 65, 'GK': 50}\n"
     ]
    }
   ],
   "source": [
    "print(dict(sorted(sample_dict.items(), key=lambda x: x[1], reverse=True)))"
   ]
  },
  {
   "cell_type": "code",
   "execution_count": 33,
   "id": "d10f7ee2",
   "metadata": {},
   "outputs": [
    {
     "name": "stdout",
     "output_type": "stream",
     "text": [
      "dict_items([('Physics', 82), ('Math', 65), ('history', 75), ('chemistry', 89), ('GK', 50)])\n",
      "dict_keys(['Physics', 'Math', 'history', 'chemistry', 'GK'])\n",
      "dict_values([82, 65, 75, 89, 50])\n"
     ]
    }
   ],
   "source": [
    "print(sample_dict.items())\n",
    "print(sample_dict.keys())\n",
    "print(sample_dict.values())"
   ]
  },
  {
   "cell_type": "code",
   "execution_count": 38,
   "id": "d1cbc76e",
   "metadata": {},
   "outputs": [
    {
     "name": "stdout",
     "output_type": "stream",
     "text": [
      "361\n"
     ]
    }
   ],
   "source": [
    "# Get sum of all the values in a dict\n",
    "\n",
    "#Input:\n",
    "sample_dict = {\n",
    "    'Physics': 82,\n",
    "    'Math': 65,\n",
    "    'history': 75,\n",
    "    'chemistry': 89,\n",
    "    'GK': 50   \n",
    "}\n",
    "\n",
    "print(sum(sample_dict.values()))"
   ]
  },
  {
   "cell_type": "code",
   "execution_count": 39,
   "id": "f1e4335c",
   "metadata": {},
   "outputs": [
    {
     "name": "stdout",
     "output_type": "stream",
     "text": [
      "False\n",
      "True\n"
     ]
    }
   ],
   "source": [
    "# Check if a dictionary is empty\n",
    "\n",
    "#Input:\n",
    "sample_dict = {\n",
    "    'Physics': 82,\n",
    "    'Math': 65,\n",
    "    'history': 75,\n",
    "    'chemistry': 89,\n",
    "    'GK': 50   \n",
    "}\n",
    "\n",
    "sample_d={}\n",
    "\n",
    "print(not(sample_dict))\n",
    "print(not(sample_d))"
   ]
  },
  {
   "cell_type": "markdown",
   "id": "e23dadb1",
   "metadata": {},
   "source": [
    "## Questions"
   ]
  },
  {
   "cell_type": "markdown",
   "id": "2a9df72d",
   "metadata": {},
   "source": [
    "1. Question:\n",
    "Create a dictionary called student with the following key-value pairs: \"name\" (your name), \"age\" (your age), \"grade\" (your current grade)."
   ]
  },
  {
   "cell_type": "code",
   "execution_count": 42,
   "id": "5da361dc",
   "metadata": {},
   "outputs": [],
   "source": [
    "student={'name':'vikas','age':27,'grade':'A'}"
   ]
  },
  {
   "cell_type": "markdown",
   "id": "b5fec7ff",
   "metadata": {},
   "source": [
    "2. Question:\n",
    "Access and print the value of the \"age\" key from the student dictionary."
   ]
  },
  {
   "cell_type": "code",
   "execution_count": 43,
   "id": "239cbb54",
   "metadata": {},
   "outputs": [
    {
     "name": "stdout",
     "output_type": "stream",
     "text": [
      "27\n"
     ]
    }
   ],
   "source": [
    "print(student['age'])"
   ]
  },
  {
   "cell_type": "markdown",
   "id": "b906abbc",
   "metadata": {},
   "source": [
    "3. Question:\n",
    "Update the value of the \"grade\" key in the student dictionary to \"B\"."
   ]
  },
  {
   "cell_type": "code",
   "execution_count": 45,
   "id": "da4343da",
   "metadata": {},
   "outputs": [
    {
     "name": "stdout",
     "output_type": "stream",
     "text": [
      "{'name': 'vikas', 'age': 27, 'grade': 'B'}\n"
     ]
    }
   ],
   "source": [
    "student['grade']='B'\n",
    "print(student)"
   ]
  },
  {
   "cell_type": "markdown",
   "id": "88416967",
   "metadata": {},
   "source": [
    "4. Question:\n",
    "Check if the key \"gender\" exists in the student dictionary. Print \"Exists\" if it does, otherwise print \"Not Exists\"."
   ]
  },
  {
   "cell_type": "code",
   "execution_count": null,
   "id": "f806c5a2",
   "metadata": {},
   "outputs": [],
   "source": [
    "if "
   ]
  },
  {
   "cell_type": "markdown",
   "id": "9d3f13cc",
   "metadata": {},
   "source": [
    "5. Question:\n",
    "Iterate over the student dictionary and print each key-value pair."
   ]
  },
  {
   "cell_type": "code",
   "execution_count": null,
   "id": "b51747c1",
   "metadata": {},
   "outputs": [],
   "source": []
  },
  {
   "cell_type": "markdown",
   "id": "0b286881",
   "metadata": {},
   "source": [
    "6. Question:\n",
    "Remove the \"grade\" key-value pair from the student dictionary."
   ]
  },
  {
   "cell_type": "code",
   "execution_count": null,
   "id": "ab3e1ac6",
   "metadata": {},
   "outputs": [],
   "source": []
  },
  {
   "cell_type": "markdown",
   "id": "94df00a0",
   "metadata": {},
   "source": [
    "7. Question:\n",
    "Create a new dictionary called squared_numbers with keys as numbers from 1 to 5 and values as their squares."
   ]
  },
  {
   "cell_type": "code",
   "execution_count": null,
   "id": "73610d18",
   "metadata": {},
   "outputs": [],
   "source": []
  },
  {
   "cell_type": "markdown",
   "id": "0ac97288",
   "metadata": {},
   "source": [
    "8. Question:\n",
    "Merge the student dictionary with a new dictionary extra_info containing the key \"hobbies\" with values as a list of your hobbies."
   ]
  },
  {
   "cell_type": "code",
   "execution_count": null,
   "id": "c2067a10",
   "metadata": {},
   "outputs": [],
   "source": []
  }
 ],
 "metadata": {
  "kernelspec": {
   "display_name": "venv_311",
   "language": "python",
   "name": "venv_311"
  },
  "language_info": {
   "codemirror_mode": {
    "name": "ipython",
    "version": 3
   },
   "file_extension": ".py",
   "mimetype": "text/x-python",
   "name": "python",
   "nbconvert_exporter": "python",
   "pygments_lexer": "ipython3",
   "version": "3.11.5"
  }
 },
 "nbformat": 4,
 "nbformat_minor": 5
}
