{
 "cells": [
  {
   "cell_type": "markdown",
   "id": "55be7e0b",
   "metadata": {},
   "source": [
    "### Dictionary"
   ]
  },
  {
   "cell_type": "markdown",
   "id": "84ede02d",
   "metadata": {},
   "source": [
    "Creating a dictionary"
   ]
  },
  {
   "cell_type": "code",
   "execution_count": 1,
   "id": "dfcdb237",
   "metadata": {},
   "outputs": [
    {
     "name": "stdout",
     "output_type": "stream",
     "text": [
      "{'Ten': 10, 'Twenty': 20, 'Thirty': 30}\n"
     ]
    }
   ],
   "source": [
    "# # Convert Two list into a dictionary\n",
    "\n",
    "keys = ['Ten','Twenty','Thirty']\n",
    "values = [10,20,30]\n",
    "\n",
    "import sys\n",
    "d={}\n",
    "\n",
    "if len(keys)!= len(values):\n",
    "    print(\"Both the list should of same length to form a dictionary\")\n",
    "    sys.exit()\n",
    "    \n",
    "for i in range(len(keys)):\n",
    "    d[keys[i]]=values[i]\n",
    "    \n",
    "print(d)\n"
   ]
  },
  {
   "cell_type": "code",
   "execution_count": 2,
   "id": "53a7e433",
   "metadata": {},
   "outputs": [
    {
     "name": "stdout",
     "output_type": "stream",
     "text": [
      "{'Ten': 10, 'Twenty': 20, 'Thirty': 30, 'Fourty': 40, 'Fifty': 50}\n"
     ]
    }
   ],
   "source": [
    "# Merge two python dictionary into one\n",
    "\n",
    "dict1 = {'Ten': 10, 'Twenty': 20, 'Thirty': 30}\n",
    "dict2 = {'Thirty': 30, 'Fourty': 40, 'Fifty': 50} \n",
    "\n",
    "d =dict(dict1)\n",
    "d.update(dict(dict2))\n",
    "print(d)\n"
   ]
  },
  {
   "cell_type": "code",
   "execution_count": 4,
   "id": "d8b0b05b",
   "metadata": {},
   "outputs": [
    {
     "name": "stdout",
     "output_type": "stream",
     "text": [
      "{'name': 'Kelly', 'salary': 8000}\n"
     ]
    }
   ],
   "source": [
    "# Create a dictionary by extracting the keys from a given dictionary\n",
    "\n",
    "sample_dict = {\n",
    "    \"name\": \"Kelly\",\n",
    "    \"age\": 25,\n",
    "    \"salary\": 8000,\n",
    "    \"city\": \"New york\"}\n",
    "\n",
    "# Keys to extract\n",
    "keys = [\"name\", \"salary\"]\n",
    "\n",
    "# Expected Output: {'name': 'Kelly', 'salary': 8000}\n",
    "\n",
    "d = {}\n",
    "\n",
    "for i in keys:\n",
    "    d[i] = sample_dict[i]\n",
    "\n",
    "print(d)\n",
    "    "
   ]
  },
  {
   "cell_type": "code",
   "execution_count": 5,
   "id": "5579b013",
   "metadata": {},
   "outputs": [
    {
     "name": "stdout",
     "output_type": "stream",
     "text": [
      "{'age': 25, 'city': 'New york'}\n"
     ]
    }
   ],
   "source": [
    "# Delete a list of keys from dictionary\n",
    "sample_dict = {\n",
    "    \"name\": \"Kelly\",\n",
    "    \"age\": 25,\n",
    "    \"salary\": 8000,\n",
    "    \"city\": \"New york\"\n",
    "}\n",
    "\n",
    "# Keys to remove\n",
    "keys = [\"name\", \"salary\"]\n",
    "\n",
    "d={}\n",
    "for i in sample_dict.keys():\n",
    "    if i not in keys:\n",
    "        d[i]=sample_dict[i]\n",
    "        \n",
    "print(d)\n"
   ]
  },
  {
   "cell_type": "code",
   "execution_count": 6,
   "id": "97ee43ce",
   "metadata": {},
   "outputs": [
    {
     "name": "stdout",
     "output_type": "stream",
     "text": [
      "{'age': 25, 'city': 'New york'}\n"
     ]
    }
   ],
   "source": [
    "sample_dict2=sample_dict.copy()\n",
    "for i in keys:\n",
    "    sample_dict2.pop(i)\n",
    "    \n",
    "print(sample_dict2)"
   ]
  },
  {
   "cell_type": "code",
   "execution_count": 7,
   "id": "2eb0585e",
   "metadata": {},
   "outputs": [
    {
     "name": "stdout",
     "output_type": "stream",
     "text": [
      "Math\n"
     ]
    }
   ],
   "source": [
    "# Get the key of a minimum value from the following dictionary\n",
    "\n",
    "#Input:\n",
    "sample_dict = {\n",
    "  'Physics': 82,\n",
    "  'Math': 65,\n",
    "  'history': 75\n",
    "}\n",
    "\n",
    "min=float('inf')\n",
    "res=None\n",
    "for key,value in sample_dict.items():\n",
    "    if value<min:\n",
    "        min=value\n",
    "        res=key\n",
    "print(res)"
   ]
  },
  {
   "cell_type": "code",
   "execution_count": 17,
   "id": "46b72a92",
   "metadata": {},
   "outputs": [
    {
     "name": "stdout",
     "output_type": "stream",
     "text": [
      "['Physics', 'Math', 'history']\n"
     ]
    }
   ],
   "source": [
    "# Get dictionary keys as a list\n",
    "\n",
    "#Input:\n",
    "sample_dict = {\n",
    "  'Physics': 82,\n",
    "  'Math': 65,\n",
    "  'history': 75\n",
    "}\n",
    "\n",
    "l = [key for key,value in sample_dict.items()]\n",
    "print(l)"
   ]
  },
  {
   "cell_type": "code",
   "execution_count": 21,
   "id": "bf246671",
   "metadata": {},
   "outputs": [
    {
     "name": "stdout",
     "output_type": "stream",
     "text": [
      "{'chemistry': 89, 'Physics': 82, 'history': 75, 'Math': 65, 'GK': 50}\n"
     ]
    }
   ],
   "source": [
    "# Sort dictionary by values - descending scores\n",
    "\n",
    "#Input:\n",
    "sample_dict = {\n",
    "    'Physics': 82,\n",
    "    'Math': 65,\n",
    "    'history': 75,\n",
    "    'chemistry': 89,\n",
    "    'GK': 50   \n",
    "}\n",
    "\n",
    "sorted_dict = sorted(sample_dict.items(), key=lambda x:x[1],reverse=True)\n",
    "print(dict(sorted_dict))"
   ]
  },
  {
   "cell_type": "code",
   "execution_count": 22,
   "id": "ded8d69c",
   "metadata": {},
   "outputs": [
    {
     "name": "stdout",
     "output_type": "stream",
     "text": [
      "{'GK': 50, 'Math': 65, 'history': 75, 'Physics': 82, 'chemistry': 89}\n"
     ]
    }
   ],
   "source": [
    "sorted_dict = sorted(sample_dict.items(), key = lambda x:x[1], reverse=False)\n",
    "print(dict(sorted_dict))"
   ]
  },
  {
   "cell_type": "code",
   "execution_count": 23,
   "id": "ffaea4b2",
   "metadata": {},
   "outputs": [
    {
     "name": "stdout",
     "output_type": "stream",
     "text": [
      "{'chemistry': 89, 'Physics': 82, 'history': 75, 'Math': 65, 'GK': 50}\n"
     ]
    }
   ],
   "source": [
    "print(dict(sorted(sample_dict.items(), key=lambda x: x[1], reverse=True)))"
   ]
  },
  {
   "cell_type": "code",
   "execution_count": 33,
   "id": "d10f7ee2",
   "metadata": {},
   "outputs": [
    {
     "name": "stdout",
     "output_type": "stream",
     "text": [
      "dict_items([('Physics', 82), ('Math', 65), ('history', 75), ('chemistry', 89), ('GK', 50)])\n",
      "dict_keys(['Physics', 'Math', 'history', 'chemistry', 'GK'])\n",
      "dict_values([82, 65, 75, 89, 50])\n"
     ]
    }
   ],
   "source": [
    "print(sample_dict.items())\n",
    "print(sample_dict.keys())\n",
    "print(sample_dict.values())"
   ]
  },
  {
   "cell_type": "code",
   "execution_count": 38,
   "id": "d1cbc76e",
   "metadata": {},
   "outputs": [
    {
     "name": "stdout",
     "output_type": "stream",
     "text": [
      "361\n"
     ]
    }
   ],
   "source": [
    "# Get sum of all the values in a dict\n",
    "\n",
    "#Input:\n",
    "sample_dict = {\n",
    "    'Physics': 82,\n",
    "    'Math': 65,\n",
    "    'history': 75,\n",
    "    'chemistry': 89,\n",
    "    'GK': 50   \n",
    "}\n",
    "\n",
    "print(sum(sample_dict.values()))"
   ]
  },
  {
   "cell_type": "code",
   "execution_count": 39,
   "id": "f1e4335c",
   "metadata": {},
   "outputs": [
    {
     "name": "stdout",
     "output_type": "stream",
     "text": [
      "False\n",
      "True\n"
     ]
    }
   ],
   "source": [
    "# Check if a dictionary is empty\n",
    "\n",
    "#Input:\n",
    "sample_dict = {\n",
    "    'Physics': 82,\n",
    "    'Math': 65,\n",
    "    'history': 75,\n",
    "    'chemistry': 89,\n",
    "    'GK': 50   \n",
    "}\n",
    "\n",
    "sample_d={}\n",
    "\n",
    "print(not(sample_dict))\n",
    "print(not(sample_d))"
   ]
  },
  {
   "cell_type": "markdown",
   "id": "e23dadb1",
   "metadata": {},
   "source": [
    "## Questions"
   ]
  },
  {
   "cell_type": "markdown",
   "id": "2a9df72d",
   "metadata": {},
   "source": [
    "1. Question:\n",
    "Create a dictionary called student with the following key-value pairs: \"name\" (your name), \"age\" (your age), \"grade\" (your current grade)."
   ]
  },
  {
   "cell_type": "code",
   "execution_count": 3,
   "id": "5da361dc",
   "metadata": {},
   "outputs": [],
   "source": [
    "student={'name':'vikas','age':27,'grade':'A'}"
   ]
  },
  {
   "cell_type": "markdown",
   "id": "b5fec7ff",
   "metadata": {},
   "source": [
    "2. Question:\n",
    "Access and print the value of the \"age\" key from the student dictionary."
   ]
  },
  {
   "cell_type": "code",
   "execution_count": 4,
   "id": "239cbb54",
   "metadata": {},
   "outputs": [
    {
     "name": "stdout",
     "output_type": "stream",
     "text": [
      "27\n"
     ]
    }
   ],
   "source": [
    "print(student['age'])"
   ]
  },
  {
   "cell_type": "markdown",
   "id": "b906abbc",
   "metadata": {},
   "source": [
    "3. Question:\n",
    "Update the value of the \"grade\" key in the student dictionary to \"B\"."
   ]
  },
  {
   "cell_type": "code",
   "execution_count": 5,
   "id": "da4343da",
   "metadata": {},
   "outputs": [
    {
     "name": "stdout",
     "output_type": "stream",
     "text": [
      "{'name': 'vikas', 'age': 27, 'grade': 'B'}\n"
     ]
    }
   ],
   "source": [
    "student['grade']='B'\n",
    "print(student)"
   ]
  },
  {
   "cell_type": "markdown",
   "id": "88416967",
   "metadata": {},
   "source": [
    "4. Question:\n",
    "Check if the key \"gender\" exists in the student dictionary. Print \"Exists\" if it does, otherwise print \"Not Exists\"."
   ]
  },
  {
   "cell_type": "code",
   "execution_count": 6,
   "id": "f806c5a2",
   "metadata": {},
   "outputs": [
    {
     "name": "stdout",
     "output_type": "stream",
     "text": [
      "Not Exists\n"
     ]
    }
   ],
   "source": [
    "if 'gender' in student.keys():\n",
    "    print(\"Exists\")\n",
    "else:\n",
    "    print(\"Not Exists\")"
   ]
  },
  {
   "cell_type": "markdown",
   "id": "9d3f13cc",
   "metadata": {},
   "source": [
    "5. Question:\n",
    "Iterate over the student dictionary and print each key-value pair."
   ]
  },
  {
   "cell_type": "code",
   "execution_count": 7,
   "id": "b51747c1",
   "metadata": {},
   "outputs": [
    {
     "name": "stdout",
     "output_type": "stream",
     "text": [
      "name:vikas\n",
      "age:27\n",
      "grade:B\n"
     ]
    }
   ],
   "source": [
    "for key,value in student.items():\n",
    "    print(f\"{key}:{value}\")"
   ]
  },
  {
   "cell_type": "markdown",
   "id": "0b286881",
   "metadata": {},
   "source": [
    "6. Question:\n",
    "Remove the \"grade\" key-value pair from the student dictionary."
   ]
  },
  {
   "cell_type": "code",
   "execution_count": 10,
   "id": "ab3e1ac6",
   "metadata": {},
   "outputs": [
    {
     "name": "stdout",
     "output_type": "stream",
     "text": [
      "{'name': 'vikas', 'age': 27}\n"
     ]
    }
   ],
   "source": [
    "student_copy = student.copy()\n",
    "student_copy.pop('grade')\n",
    "print(student_copy)\n",
    "\n",
    "# 0r\n",
    "# del student['grade']"
   ]
  },
  {
   "cell_type": "markdown",
   "id": "94df00a0",
   "metadata": {},
   "source": [
    "7. Question:\n",
    "Create a new dictionary called squared_numbers with keys as numbers from 1 to 5 and values as their squares."
   ]
  },
  {
   "cell_type": "code",
   "execution_count": 11,
   "id": "73610d18",
   "metadata": {},
   "outputs": [
    {
     "name": "stdout",
     "output_type": "stream",
     "text": [
      "{1: 1, 2: 4, 3: 9, 4: 16, 5: 25}\n"
     ]
    }
   ],
   "source": [
    "dic={}\n",
    "for i in range(1,6):\n",
    "    dic[i]=i*i\n",
    "print(dic)"
   ]
  },
  {
   "cell_type": "code",
   "execution_count": 14,
   "id": "22648ba2",
   "metadata": {},
   "outputs": [
    {
     "data": {
      "text/plain": [
       "{1: 1, 2: 4, 3: 9, 4: 16, 5: 25}"
      ]
     },
     "execution_count": 14,
     "metadata": {},
     "output_type": "execute_result"
    }
   ],
   "source": [
    "dic = {i:i*i for i in range(1,6)}\n",
    "dic"
   ]
  },
  {
   "cell_type": "markdown",
   "id": "0ac97288",
   "metadata": {},
   "source": [
    "8. Question:\n",
    "Merge the student dictionary with a new dictionary extra_info containing the key \"hobbies\" with values as a list of your hobbies."
   ]
  },
  {
   "cell_type": "code",
   "execution_count": 16,
   "id": "c2067a10",
   "metadata": {},
   "outputs": [],
   "source": [
    "extra_info = {'hobbies':['cricket','carrom']}\n",
    "student.update(extra_info)"
   ]
  },
  {
   "cell_type": "code",
   "execution_count": 17,
   "id": "b5d8e4f8",
   "metadata": {},
   "outputs": [
    {
     "data": {
      "text/plain": [
       "{'name': 'vikas', 'age': 27, 'grade': 'B', 'hobbies': ['cricket', 'carrom']}"
      ]
     },
     "execution_count": 17,
     "metadata": {},
     "output_type": "execute_result"
    }
   ],
   "source": [
    "student"
   ]
  },
  {
   "cell_type": "markdown",
   "id": "e334b0a8",
   "metadata": {},
   "source": [
    "9. Question:\n",
    "Count the occurrences of each character in the given string and store the result in a dictionary."
   ]
  },
  {
   "cell_type": "code",
   "execution_count": 19,
   "id": "d4d06786",
   "metadata": {},
   "outputs": [
    {
     "name": "stdout",
     "output_type": "stream",
     "text": [
      "{'p': 1, 'r': 2, 'o': 1, 'g': 2, 'a': 1, 'm': 2, 'i': 1, 'n': 1}\n"
     ]
    }
   ],
   "source": [
    "input_string ='programming'\n",
    "char_count = {}\n",
    "\n",
    "for i in input_string:\n",
    "    if i not in char_count.keys():\n",
    "        char_count[i]=1\n",
    "    else:\n",
    "        char_count[i]+=1\n",
    "        \n",
    "print(char_count)"
   ]
  },
  {
   "cell_type": "code",
   "execution_count": 23,
   "id": "cfbdb989",
   "metadata": {},
   "outputs": [
    {
     "name": "stdout",
     "output_type": "stream",
     "text": [
      "{'p': 1, 'r': 2, 'o': 1, 'g': 2, 'a': 1, 'm': 2, 'i': 1, 'n': 1}\n"
     ]
    }
   ],
   "source": [
    "input_string ='programming'\n",
    "char_count = {}\n",
    "\n",
    "for char in input_string:\n",
    "    char_count[char]= char_count.get(char,0)+1\n",
    "    \n",
    "print(char_count)"
   ]
  },
  {
   "cell_type": "markdown",
   "id": "5fcfe2e5",
   "metadata": {},
   "source": [
    "10. Question:\n",
    "Create a new dictionary containing only the key-value pairs from the student dictionary where the value is of type int."
   ]
  },
  {
   "cell_type": "code",
   "execution_count": 27,
   "id": "fcab9400",
   "metadata": {},
   "outputs": [
    {
     "name": "stdout",
     "output_type": "stream",
     "text": [
      "{'age': 27}\n"
     ]
    }
   ],
   "source": [
    "new_dict={}\n",
    "for key, value in student.items():\n",
    "    if type(value)==int:\n",
    "        new_dict[key]=value\n",
    "    \n",
    "print(new_dict)"
   ]
  },
  {
   "cell_type": "code",
   "execution_count": 28,
   "id": "75a6695a",
   "metadata": {},
   "outputs": [
    {
     "name": "stdout",
     "output_type": "stream",
     "text": [
      "{'age': 27}\n"
     ]
    }
   ],
   "source": [
    "new_dict = {key:value for key,value in student.items() if type(value)==int}\n",
    "print(new_dict)"
   ]
  },
  {
   "cell_type": "code",
   "execution_count": 29,
   "id": "94561e6f",
   "metadata": {},
   "outputs": [
    {
     "name": "stdout",
     "output_type": "stream",
     "text": [
      "{'age': 27}\n"
     ]
    }
   ],
   "source": [
    "new_dict = {key:value for key, value in student.items() if isinstance(value, int)}\n",
    "print(new_dict)"
   ]
  },
  {
   "cell_type": "markdown",
   "id": "4fcb727e",
   "metadata": {},
   "source": [
    "11. Question:\n",
    "Create a nested dictionary representing a simple inventory system. Each item has properties like \"quantity\" and \"price\"."
   ]
  },
  {
   "cell_type": "code",
   "execution_count": 30,
   "id": "31849b4f",
   "metadata": {},
   "outputs": [],
   "source": [
    "inventory = {\n",
    "    'item1': {'quantity':10, 'price':25.99},\n",
    "    'item2': {'quantity':5, 'price':12.5},\n",
    "    'item3': {'quantity':20, 'price':8.75}\n",
    "}"
   ]
  },
  {
   "cell_type": "markdown",
   "id": "2fdddd15",
   "metadata": {},
   "source": [
    "12. Question:\n",
    "Sort the squared_numbers dictionary based on the keys in descending order."
   ]
  },
  {
   "cell_type": "code",
   "execution_count": 33,
   "id": "738fdab6",
   "metadata": {},
   "outputs": [
    {
     "name": "stdout",
     "output_type": "stream",
     "text": [
      "{5: 25, 4: 16, 3: 9, 2: 4, 1: 1}\n"
     ]
    }
   ],
   "source": [
    "squared_dic = {i:i**2 for i in range(1,6)}\n",
    "sorted_dic = dict(sorted(squared_dic.items(), reverse=True))\n",
    "print(sorted_dic)"
   ]
  },
  {
   "cell_type": "code",
   "execution_count": 34,
   "id": "e302a658",
   "metadata": {},
   "outputs": [
    {
     "data": {
      "text/plain": [
       "{5: 25, 4: 16, 3: 9, 2: 4, 1: 1}"
      ]
     },
     "execution_count": 34,
     "metadata": {},
     "output_type": "execute_result"
    }
   ],
   "source": [
    "sorted_numbers = dict(sorted(squared_dic.items(), key = lambda x:x[0],reverse=True))\n",
    "sorted_numbers"
   ]
  },
  {
   "cell_type": "markdown",
   "id": "137d08db",
   "metadata": {},
   "source": [
    "13. Question:\n",
    "Perform various operations on the student dictionary, such as copying, clearing, and getting a value with a default."
   ]
  },
  {
   "cell_type": "code",
   "execution_count": 38,
   "id": "bfcc2742",
   "metadata": {},
   "outputs": [
    {
     "name": "stdout",
     "output_type": "stream",
     "text": [
      "{}\n",
      "B\n"
     ]
    }
   ],
   "source": [
    "# Copying\n",
    "student_copy = student.copy()\n",
    "\n",
    "# clearing dictionary\n",
    "student_copy.clear()\n",
    "\n",
    "# Getting a value with default\n",
    "default_grade = student.get('grade','Not available')\n",
    "\n",
    "print(student_copy)\n",
    "print(default_grade)"
   ]
  },
  {
   "cell_type": "markdown",
   "id": "fa3334c0",
   "metadata": {},
   "source": [
    "14. Question:\n",
    "Create a dictionary with default values for each key as 0 and update it based on a list of numbers."
   ]
  },
  {
   "cell_type": "code",
   "execution_count": 42,
   "id": "39e8a850",
   "metadata": {},
   "outputs": [
    {
     "name": "stdout",
     "output_type": "stream",
     "text": [
      "{1: 2, 2: 2, 3: 3, 4: 2, 5: 2}\n"
     ]
    }
   ],
   "source": [
    "default_dict = {}.fromkeys(range(1,6),0)\n",
    "numbers = [1,2,3,2,4,5,3,1,5,4,3]\n",
    "\n",
    "for num in numbers:\n",
    "    default_dict[num]+=1\n",
    "    \n",
    "print(default_dict)"
   ]
  },
  {
   "cell_type": "markdown",
   "id": "c8881080",
   "metadata": {},
   "source": [
    "15. Question:\n",
    "Find the common key-value pairs between two dictionaries."
   ]
  },
  {
   "cell_type": "code",
   "execution_count": 43,
   "id": "711c9e4d",
   "metadata": {},
   "outputs": [
    {
     "name": "stdout",
     "output_type": "stream",
     "text": [
      "{'b': 2, 'c': 3}\n"
     ]
    }
   ],
   "source": [
    "# Intersection of dictionary\n",
    "dict1 = {\"a\": 1, \"b\": 2, \"c\": 3}\n",
    "dict2 = {\"b\": 2, \"c\": 3, \"d\": 4}\n",
    "\n",
    "common_pairs = {key:dict1[key] for key in dict1.keys() & dict2.keys()}\n",
    "print(common_pairs)"
   ]
  },
  {
   "cell_type": "code",
   "execution_count": 47,
   "id": "ac25bc91",
   "metadata": {},
   "outputs": [
    {
     "data": {
      "text/plain": [
       "{'b': 10, 'c': 8}"
      ]
     },
     "execution_count": 47,
     "metadata": {},
     "output_type": "execute_result"
    }
   ],
   "source": [
    "dict1 = {\"a\": 1, \"b\": 2, \"c\": 8}\n",
    "dict2 = {\"b\": 10, \"c\": 3, \"d\": 4}\n",
    "common_key_max_value = {key:max(dict1[key],dict2[key]) for key in dict1.keys() & dict2.keys()}\n",
    "common_key_max_value"
   ]
  },
  {
   "cell_type": "markdown",
   "id": "8df451d6",
   "metadata": {},
   "source": [
    "16. **Question:**\n",
    "Merge two dictionaries, dict1 and dict2, where if there are overlapping keys, the values from dict2 should overwrite the values from dict1."
   ]
  },
  {
   "cell_type": "code",
   "execution_count": 48,
   "id": "62950541",
   "metadata": {},
   "outputs": [
    {
     "data": {
      "text/plain": [
       "{'a': 1, 'b': 4, 'c': 5, 'd': 6}"
      ]
     },
     "execution_count": 48,
     "metadata": {},
     "output_type": "execute_result"
    }
   ],
   "source": [
    "dict1 = {'a': 1, 'b': 2, 'c': 3}\n",
    "dict2 = {'b': 4, 'c': 5, 'd': 6}\n",
    "\n",
    "merged_dict = {**dict1,**dict2}\n",
    "merged_dict"
   ]
  },
  {
   "cell_type": "code",
   "execution_count": 49,
   "id": "2766b980",
   "metadata": {},
   "outputs": [
    {
     "data": {
      "text/plain": [
       "{'a': 1, 'b': 4, 'c': 5, 'd': 6}"
      ]
     },
     "execution_count": 49,
     "metadata": {},
     "output_type": "execute_result"
    }
   ],
   "source": [
    "dict1 = {'a': 1, 'b': 2, 'c': 3}\n",
    "dict2 = {'b': 4, 'c': 5, 'd': 6}\n",
    "\n",
    "dict1.update(dict2)\n",
    "dict1"
   ]
  },
  {
   "cell_type": "code",
   "execution_count": 51,
   "id": "8c4dc886",
   "metadata": {},
   "outputs": [
    {
     "data": {
      "text/plain": [
       "{'b': 2, 'c': 3, 'd': 6, 'a': 1}"
      ]
     },
     "execution_count": 51,
     "metadata": {},
     "output_type": "execute_result"
    }
   ],
   "source": [
    "dict1 = {'a': 1, 'b': 2, 'c': 3}\n",
    "dict2 = {'b': 4, 'c': 5, 'd': 6}\n",
    "\n",
    "dict2.update(dict1)\n",
    "dict2"
   ]
  },
  {
   "cell_type": "markdown",
   "id": "63910002",
   "metadata": {},
   "source": [
    "17. **Question:**\n",
    "Filter a dictionary to include only key-value pairs where the value is greater than 2."
   ]
  },
  {
   "cell_type": "code",
   "execution_count": 52,
   "id": "af9d9ca4",
   "metadata": {},
   "outputs": [
    {
     "name": "stdout",
     "output_type": "stream",
     "text": [
      "{'b': 3, 'c': 5}\n"
     ]
    }
   ],
   "source": [
    "original_dict = {'a': 1, 'b': 3, 'c': 5, 'd': 2}\n",
    "\n",
    "modified_dict={}\n",
    "for key, value in original_dict.items():\n",
    "    if value>2:\n",
    "        modified_dict[key]=value\n",
    "        \n",
    "print(modified_dict)\n",
    "        "
   ]
  },
  {
   "cell_type": "code",
   "execution_count": 55,
   "id": "e0595f9c",
   "metadata": {},
   "outputs": [
    {
     "name": "stdout",
     "output_type": "stream",
     "text": [
      "{'b': 3, 'c': 5}\n"
     ]
    }
   ],
   "source": [
    "# Using dictionary comprehention\n",
    "original_dict = {'a': 1, 'b': 3, 'c': 5, 'd': 2}\n",
    "modified_dict = {key:value for key, value in original_dict.items() if value>2}\n",
    "print(modified_dict)"
   ]
  },
  {
   "cell_type": "markdown",
   "id": "77184f1c",
   "metadata": {},
   "source": [
    "**18. Question:**\n",
    "Invert the key-value pairs of a dictionary."
   ]
  },
  {
   "cell_type": "code",
   "execution_count": 56,
   "id": "fa3a400f",
   "metadata": {},
   "outputs": [
    {
     "name": "stdout",
     "output_type": "stream",
     "text": [
      "{1: 'a', 2: 'b', 3: 'c'}\n"
     ]
    }
   ],
   "source": [
    "original_dict = {'a':1, 'b': 2, 'c': 3}\n",
    "\n",
    "inverted_dict = {value:key for key,value in original_dict.items()}\n",
    "print(inverted_dict)"
   ]
  },
  {
   "cell_type": "markdown",
   "id": "747c76cd",
   "metadata": {},
   "source": [
    "**19. Question:**\n",
    "Combine two dictionaries into a new one without modifying the original dictionaries."
   ]
  },
  {
   "cell_type": "code",
   "execution_count": 57,
   "id": "db9777bc",
   "metadata": {},
   "outputs": [
    {
     "name": "stdout",
     "output_type": "stream",
     "text": [
      "{'a': 1, 'b': 3, 'c': 4}\n"
     ]
    }
   ],
   "source": [
    "dict1 = {'a': 1, 'b': 2}\n",
    "dict2 = {'b': 3, 'c': 4}\n",
    "\n",
    "union_dict = dict1|dict2\n",
    "print(union_dict)"
   ]
  },
  {
   "cell_type": "code",
   "execution_count": 58,
   "id": "f4c28aa0",
   "metadata": {},
   "outputs": [
    {
     "name": "stdout",
     "output_type": "stream",
     "text": [
      "{'a': 1, 'b': 3, 'c': 4}\n"
     ]
    }
   ],
   "source": [
    "dict1 = {'a': 1, 'b': 2}\n",
    "dict2 = {'b': 3, 'c': 4}\n",
    "\n",
    "dict1.update(dict2)\n",
    "print(dict1)\n"
   ]
  },
  {
   "cell_type": "markdown",
   "id": "552a9143",
   "metadata": {},
   "source": [
    "**20. Question:**\n",
    "Count the occurrences of each word in a sentence."
   ]
  },
  {
   "cell_type": "code",
   "execution_count": 61,
   "id": "33956945",
   "metadata": {},
   "outputs": [
    {
     "name": "stdout",
     "output_type": "stream",
     "text": [
      "{'This': 2, 'is': 2, 'a': 2, 'sample': 1, 'sentence.': 1, 'sentence': 1, 'sample.': 1}\n"
     ]
    }
   ],
   "source": [
    "sentence = \"This is a sample sentence. This sentence is a sample.\"\n",
    "word_count={}\n",
    "words = sentence.split()\n",
    "\n",
    "for word in words:\n",
    "    word_count[word]=word_count.get(word,0)+1\n",
    "    \n",
    "print(word_count)"
   ]
  },
  {
   "cell_type": "markdown",
   "id": "83aebc73",
   "metadata": {},
   "source": [
    "**21. Question:**\n",
    "Check if two dictionaries are equal."
   ]
  },
  {
   "cell_type": "code",
   "execution_count": 63,
   "id": "bb1152c6",
   "metadata": {},
   "outputs": [
    {
     "name": "stdout",
     "output_type": "stream",
     "text": [
      "True\n"
     ]
    }
   ],
   "source": [
    "dict1 = {'a': 1, 'b': 2, 'c': 3}\n",
    "dict2 = {'a': 1, 'b': 2, 'c': 3}\n",
    "\n",
    "are_equal = dict1==dict2\n",
    "print(are_equal)"
   ]
  },
  {
   "cell_type": "markdown",
   "id": "062c61e1",
   "metadata": {},
   "source": [
    "**22. Question:**`\n",
    "Calculate the sum of all values in a dictionary."
   ]
  },
  {
   "cell_type": "code",
   "execution_count": 64,
   "id": "32b83135",
   "metadata": {},
   "outputs": [
    {
     "name": "stdout",
     "output_type": "stream",
     "text": [
      "60\n"
     ]
    }
   ],
   "source": [
    "numbers = {'a': 10, 'b': 20, 'c': 30}\n",
    "\n",
    "print(sum(numbers.values()))"
   ]
  },
  {
   "cell_type": "markdown",
   "id": "b3e7da5e",
   "metadata": {},
   "source": [
    "**23. Question:**\n",
    "Transform all keys in a dictionary to uppercase."
   ]
  },
  {
   "cell_type": "code",
   "execution_count": 65,
   "id": "d4dc0bce",
   "metadata": {},
   "outputs": [
    {
     "name": "stdout",
     "output_type": "stream",
     "text": [
      "{'A': 1, 'B': 2, 'C': 3}\n"
     ]
    }
   ],
   "source": [
    "original_dict = {'a': 1, 'b': 2, 'c': 3}\n",
    "\n",
    "uppercase_dict = {key.upper():value for key, value in original_dict.items()}\n",
    "print(uppercase_dict)"
   ]
  },
  {
   "cell_type": "markdown",
   "id": "fc35abf4",
   "metadata": {},
   "source": [
    "**24. Question:**\n",
    "Create a new list containing unique values from a given list."
   ]
  },
  {
   "cell_type": "code",
   "execution_count": 66,
   "id": "a9756117",
   "metadata": {},
   "outputs": [
    {
     "name": "stdout",
     "output_type": "stream",
     "text": [
      "[1, 2, 3, 4, 5]\n"
     ]
    }
   ],
   "source": [
    "original_list = [1, 2, 3, 2, 4, 5, 3, 1, 5, 4]\n",
    "\n",
    "print(list(set(original_list)))"
   ]
  },
  {
   "cell_type": "markdown",
   "id": "06c3045e",
   "metadata": {},
   "source": [
    "**25. Question:**\n",
    "Flatten a nested dictionary, keeping the keys as concatenated strings."
   ]
  },
  {
   "cell_type": "code",
   "execution_count": 71,
   "id": "4f5d4655",
   "metadata": {},
   "outputs": [
    {
     "name": "stdout",
     "output_type": "stream",
     "text": [
      "{'a.b': {'c': 1, 'd': 2}, 'e': 3}\n"
     ]
    }
   ],
   "source": [
    "nested_dict = {'a': {'b': {'c': 1, 'd': 2}}, 'e': 3}\n",
    "\n",
    "flattened_dict ={}\n",
    "for key,value in nested_dict.items():\n",
    "    if isinstance(value, dict):\n",
    "        for sub_key,sub_value in value.items():\n",
    "            flattened_key = f\"{key}.{sub_key}\"\n",
    "            flattened_dict[flattened_key] = sub_value\n",
    "    else:\n",
    "        flattened_dict[key]=value\n",
    "print(flattened_dict)"
   ]
  },
  {
   "cell_type": "markdown",
   "id": "235edc07",
   "metadata": {},
   "source": [
    "**26. Question:**\n",
    "Check if two strings are anagrams (contain the same characters with the same frequency)."
   ]
  },
  {
   "cell_type": "code",
   "execution_count": 73,
   "id": "23641b03",
   "metadata": {},
   "outputs": [
    {
     "name": "stdout",
     "output_type": "stream",
     "text": [
      "True\n"
     ]
    }
   ],
   "source": [
    "def are_anagrams(str1,str2):\n",
    "    return sorted(str1)==sorted(str2)\n",
    "\n",
    "print(are_anagrams('listen','silent'))"
   ]
  },
  {
   "cell_type": "markdown",
   "id": "84d4c1d4",
   "metadata": {},
   "source": [
    "**27. Question:**\n",
    "Sort a dictionary based on its keys."
   ]
  },
  {
   "cell_type": "code",
   "execution_count": 75,
   "id": "dd3889f2",
   "metadata": {},
   "outputs": [
    {
     "name": "stdout",
     "output_type": "stream",
     "text": [
      "{'a': 1, 'b': 3, 'c': 2}\n"
     ]
    }
   ],
   "source": [
    "unordered_dict = {'b': 3, 'a': 1, 'c': 2}\n",
    "\n",
    "sorted_dict = dict(sorted(unordered_dict.items(),key = lambda x:x[0]))\n",
    "print(sorted_dict)"
   ]
  },
  {
   "cell_type": "markdown",
   "id": "110e1522",
   "metadata": {},
   "source": [
    "**28. Question:**\n",
    "Convert all values in a dictionary from integers to strings."
   ]
  },
  {
   "cell_type": "code",
   "execution_count": 76,
   "id": "c823efa8",
   "metadata": {},
   "outputs": [
    {
     "name": "stdout",
     "output_type": "stream",
     "text": [
      "{'a': '1', 'b': '2', 'c': '3'}\n"
     ]
    }
   ],
   "source": [
    "original_dict = {'a': 1, 'b': 2, 'c': 3}\n",
    "\n",
    "modified_dict = {key:str(value) for key,value in original_dict.items()}\n",
    "print(modified_dict)"
   ]
  },
  {
   "cell_type": "markdown",
   "id": "ea45daa7",
   "metadata": {},
   "source": [
    "**29. Question:**\n",
    "Find common elements in a list of dictionaries based on a specific key."
   ]
  },
  {
   "cell_type": "code",
   "execution_count": 77,
   "id": "9e32ee91",
   "metadata": {},
   "outputs": [
    {
     "name": "stdout",
     "output_type": "stream",
     "text": [
      "{1, 3}\n"
     ]
    }
   ],
   "source": [
    "list_of_dicts = [{'a': 1, 'b': 2}, {'a': 3, 'b': 2}, {'a': 1, 'b': 4}]\n",
    "\n",
    "common_elements = set.intersection(*[set(d['a'] for d in list_of_dicts)])\n",
    "print(common_elements)"
   ]
  },
  {
   "cell_type": "code",
   "execution_count": null,
   "id": "cf60fd37",
   "metadata": {},
   "outputs": [],
   "source": []
  }
 ],
 "metadata": {
  "kernelspec": {
   "display_name": "venv_311",
   "language": "python",
   "name": "venv_311"
  },
  "language_info": {
   "codemirror_mode": {
    "name": "ipython",
    "version": 3
   },
   "file_extension": ".py",
   "mimetype": "text/x-python",
   "name": "python",
   "nbconvert_exporter": "python",
   "pygments_lexer": "ipython3",
   "version": "3.11.5"
  }
 },
 "nbformat": 4,
 "nbformat_minor": 5
}
