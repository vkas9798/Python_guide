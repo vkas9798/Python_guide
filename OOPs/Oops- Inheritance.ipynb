{
 "cells": [
  {
   "cell_type": "code",
   "execution_count": 5,
   "id": "5bb8bf7b",
   "metadata": {},
   "outputs": [],
   "source": [
    "class Atm:\n",
    "    def __init__(self, name):\n",
    "        self.name = name\n",
    "        self.pin = \"\"\n",
    "        self.balance = 0\n",
    "        self.menu()\n",
    "    \n",
    "    def menu(self):\n",
    "        temp = int(input(\"\"\"choose from below option\n",
    "        1. pin generation\n",
    "        2. deposite\n",
    "        3. withdraw\n",
    "        4. check balance\n",
    "        5. exit\n",
    "        \"\"\"))\n",
    "        if temp==1:\n",
    "            print(\"call pin_generation function\")\n",
    "        elif temp==2:\n",
    "            print(\"call deposite function\")\n",
    "        else:\n",
    "            print(\"other functions\")\n",
    "    \n",
    "    def deposite(self):\n",
    "        pass\n",
    "    \n",
    "    def withdraw(self):\n",
    "        pass\n",
    "    \n",
    "    def check_balance(self):\n",
    "        pass\n",
    "    \n",
    "    def pin_generation(self):\n",
    "        pass"
   ]
  },
  {
   "cell_type": "code",
   "execution_count": 6,
   "id": "76b23502",
   "metadata": {},
   "outputs": [
    {
     "name": "stdout",
     "output_type": "stream",
     "text": [
      "choose from below option\n",
      "        1. pin generation\n",
      "        2. deposite\n",
      "        3. withdraw\n",
      "        4. check balance\n",
      "        5. exit\n",
      "        2\n",
      "call deposite function\n"
     ]
    }
   ],
   "source": [
    "ravi = Atm(\"ravi\")"
   ]
  },
  {
   "cell_type": "code",
   "execution_count": 17,
   "id": "180e0ed2",
   "metadata": {},
   "outputs": [],
   "source": [
    "## Encapsulation: is a process of hiding private variables\n",
    "class Customer:\n",
    "    def __init__(self, name):\n",
    "        self.name= name\n",
    "        self.__pin=\"1234\" # making the variable private\n",
    "        self.__sec=\"lock\" # private variable\n",
    "        \n",
    "    def menu(self):\n",
    "        print(\"this is a public method\")\n",
    "        \n",
    "    def __p_menu(self):\n",
    "        print(\"private function call\")\n",
    "        \n",
    "    def call_private(self):\n",
    "        self.__p_menu()\n",
    "        print(self.__pin)\n",
    "        print(self.__sec)\n",
    "        "
   ]
  },
  {
   "cell_type": "code",
   "execution_count": 18,
   "id": "827e1ac9",
   "metadata": {},
   "outputs": [],
   "source": [
    "x = Customer(\"Ravi\")"
   ]
  },
  {
   "cell_type": "code",
   "execution_count": 19,
   "id": "3d38fafd",
   "metadata": {},
   "outputs": [
    {
     "name": "stdout",
     "output_type": "stream",
     "text": [
      "private function call\n",
      "1234\n",
      "lock\n"
     ]
    }
   ],
   "source": [
    "x.call_private()"
   ]
  },
  {
   "cell_type": "code",
   "execution_count": 20,
   "id": "f4e1c26b",
   "metadata": {},
   "outputs": [],
   "source": [
    "# Inheritance\n",
    "# Class A\n",
    "class Animal:\n",
    "    def __init__(self, species):\n",
    "        self.species = species\n",
    "        \n",
    "    def make_sound(self):\n",
    "        print(\"generic animal sound\")\n",
    "        \n",
    "# Class B\n",
    "class Cat(Animal):  # here Cat inherited the constructor as well as all the methods of animal class\n",
    "    def purr(self):\n",
    "        print(\"purr\")\n",
    "        \n",
    "    def make_sound(self):\n",
    "        print(\"Meow\")\n",
    "        \n",
    "        \n",
    "        "
   ]
  },
  {
   "cell_type": "code",
   "execution_count": 21,
   "id": "5107293a",
   "metadata": {},
   "outputs": [
    {
     "name": "stdout",
     "output_type": "stream",
     "text": [
      "Meow\n"
     ]
    }
   ],
   "source": [
    "my_cat = Cat(\"Felis catus\")\n",
    "my_cat.make_sound()"
   ]
  },
  {
   "cell_type": "code",
   "execution_count": 23,
   "id": "5f5fb121",
   "metadata": {},
   "outputs": [
    {
     "name": "stdout",
     "output_type": "stream",
     "text": [
      "purr\n"
     ]
    }
   ],
   "source": [
    "my_cat.purr()"
   ]
  },
  {
   "cell_type": "code",
   "execution_count": 24,
   "id": "79ad1d0f",
   "metadata": {},
   "outputs": [
    {
     "name": "stdout",
     "output_type": "stream",
     "text": [
      "Squawk\n",
      "chirp\n"
     ]
    }
   ],
   "source": [
    "# Example of polymorphism\n",
    "class Bird:\n",
    "    def make_sound(self):\n",
    "        pass\n",
    "    \n",
    "class Parrot(Bird):\n",
    "    def make_sound(self):\n",
    "        print(\"Squawk\")\n",
    "        \n",
    "class Sparrow(Bird):\n",
    "    def make_sound(self):\n",
    "        print(\"chirp\")\n",
    "\n",
    "def bird_sound(bird):  # here we are passing objects\n",
    "    bird.make_sound()\n",
    "    \n",
    "parrot = Parrot()\n",
    "sparrow = Sparrow()\n",
    "\n",
    "bird_sound(parrot)\n",
    "bird_sound(sparrow)\n",
    "\n",
    "        "
   ]
  },
  {
   "cell_type": "code",
   "execution_count": 25,
   "id": "7bd830ba",
   "metadata": {},
   "outputs": [],
   "source": [
    "# Advance Encapsulation often involve using private attributs and methods to control access and modifiacation of data within a class\n",
    "class Student:\n",
    "    def __init__(self,name, age):\n",
    "        self.__name = name\n",
    "        self.__age = age\n",
    "        self.__grades = []\n",
    "        \n",
    "    @property\n",
    "    def name(self):\n",
    "        return self.__name\n",
    "    \n",
    "    @property\n",
    "    def age(self):\n",
    "        return self.__age\n",
    "    \n",
    "    @age.setter\n",
    "    def age(self, new_age):\n",
    "        if 18<=new_age<=30:\n",
    "            self.__age = new_age\n",
    "        else:\n",
    "            print(\"invalid age number\")\n",
    "            \n",
    "    def __calculate_average_grade(self):\n",
    "        if self.__grades:\n",
    "            return sum(self.__grades)/len(self.__grades)\n",
    "        else:\n",
    "            return 0\n",
    "        \n",
    "    def add_grade(self,grade):\n",
    "        if 0<=grade<=100:\n",
    "            self.__grades.append(grade)\n",
    "            print(f\"Grade {grade} added.\")\n",
    "        else:\n",
    "            print(\"Invalid grade\")\n",
    "            \n",
    "    def get_average_grade(self):\n",
    "        return self.__calculate_average_grade()"
   ]
  },
  {
   "cell_type": "code",
   "execution_count": 26,
   "id": "6063cef4",
   "metadata": {},
   "outputs": [
    {
     "name": "stdout",
     "output_type": "stream",
     "text": [
      "Initial Age: 20\n",
      "invalid age number\n",
      "Updated Age: 25\n"
     ]
    }
   ],
   "source": [
    "student = Student(\"Alice\",20)\n",
    "print(f\"Initial Age: {student.age}\")\n",
    "student.age = 35\n",
    "student.age = 25\n",
    "print(f\"Updated Age: {student.age}\")"
   ]
  },
  {
   "cell_type": "code",
   "execution_count": 35,
   "id": "e983c17c",
   "metadata": {},
   "outputs": [],
   "source": [
    "# Concept of property\n",
    "\n",
    "class Circle:\n",
    "    def __init__(self,radius):\n",
    "        self.__radius = radius # Protected\n",
    "        \n",
    "    @property\n",
    "    def radius(self):\n",
    "        print(\"Getting radius\")\n",
    "        return self.__radius\n",
    "    \n",
    "        \n",
    "    "
   ]
  },
  {
   "cell_type": "code",
   "execution_count": 36,
   "id": "7bf39793",
   "metadata": {},
   "outputs": [],
   "source": [
    "obj = Circle(24)"
   ]
  },
  {
   "cell_type": "code",
   "execution_count": 37,
   "id": "5fd87378",
   "metadata": {},
   "outputs": [
    {
     "name": "stdout",
     "output_type": "stream",
     "text": [
      "Getting radius\n"
     ]
    },
    {
     "data": {
      "text/plain": [
       "24"
      ]
     },
     "execution_count": 37,
     "metadata": {},
     "output_type": "execute_result"
    }
   ],
   "source": [
    "obj.radius"
   ]
  },
  {
   "cell_type": "code",
   "execution_count": 38,
   "id": "69e41df0",
   "metadata": {},
   "outputs": [],
   "source": [
    "# Implement Encapsulation\n",
    "class Circle:\n",
    "    \n",
    "    def __init__(self,radius):\n",
    "        self.__radius = radius\n",
    "        \n",
    "    @property\n",
    "    def radius(self):\n",
    "        return self.__radius"
   ]
  },
  {
   "cell_type": "code",
   "execution_count": 40,
   "id": "bee86435",
   "metadata": {},
   "outputs": [
    {
     "data": {
      "text/plain": [
       "14"
      ]
     },
     "execution_count": 40,
     "metadata": {},
     "output_type": "execute_result"
    }
   ],
   "source": [
    "obj = Circle(14)\n",
    "obj.radius"
   ]
  },
  {
   "cell_type": "code",
   "execution_count": 41,
   "id": "edfeb6c2",
   "metadata": {},
   "outputs": [
    {
     "ename": "AttributeError",
     "evalue": "property 'radius' of 'Circle' object has no setter",
     "output_type": "error",
     "traceback": [
      "\u001b[1;31m---------------------------------------------------------------------------\u001b[0m",
      "\u001b[1;31mAttributeError\u001b[0m                            Traceback (most recent call last)",
      "Cell \u001b[1;32mIn[41], line 1\u001b[0m\n\u001b[1;32m----> 1\u001b[0m \u001b[43mobj\u001b[49m\u001b[38;5;241;43m.\u001b[39;49m\u001b[43mradius\u001b[49m \u001b[38;5;241m=\u001b[39m \u001b[38;5;241m12\u001b[39m\n",
      "\u001b[1;31mAttributeError\u001b[0m: property 'radius' of 'Circle' object has no setter"
     ]
    }
   ],
   "source": [
    "obj.radius = 12"
   ]
  },
  {
   "cell_type": "code",
   "execution_count": 42,
   "id": "5cfe35fa",
   "metadata": {},
   "outputs": [],
   "source": [
    "# lets set the setter\n",
    "class Circle:\n",
    "    def __init__(self,radius):\n",
    "        self.__radius = radius\n",
    "        \n",
    "    @property # getter method\n",
    "    def radius(self):\n",
    "        return self.__radius\n",
    "    \n",
    "    @radius.setter\n",
    "    def radius(self, value):\n",
    "        if value>=0:\n",
    "            print(\"Setting radius\")\n",
    "            self.__radius = value\n",
    "        else:\n",
    "            raise ValueError(\"Radius cannot be negative\")"
   ]
  },
  {
   "cell_type": "code",
   "execution_count": 1,
   "id": "addbfceb",
   "metadata": {},
   "outputs": [],
   "source": [
    "# the gettter and setter function gives fuctionality for the validation of the data before assigning it to variables\n"
   ]
  },
  {
   "cell_type": "markdown",
   "id": "3f1b655e",
   "metadata": {},
   "source": [
    "### Inheritance"
   ]
  },
  {
   "cell_type": "markdown",
   "id": "9c839e8b",
   "metadata": {},
   "source": [
    "#### Eg: Animal Hierarchy with Inheritance"
   ]
  },
  {
   "cell_type": "code",
   "execution_count": 2,
   "id": "67bf2da7",
   "metadata": {},
   "outputs": [],
   "source": [
    "class Animal:\n",
    "    def __init__(self,species):\n",
    "        self.__species = species\n",
    "        \n",
    "    @property\n",
    "    def species(self):\n",
    "        return self.__species\n",
    "    \n",
    "    def make_sound(self):\n",
    "        print(\"Generic animal Sound\")\n",
    "        \n",
    "class Dog(Animal):\n",
    "    def __init__(self,name, age):\n",
    "        super().__init__(\"Dog\")\n",
    "        self.__name =name\n",
    "        self.__age = age\n",
    "        \n",
    "    @property\n",
    "    def name(self):\n",
    "        return self.__name\n",
    "    \n",
    "    @property\n",
    "    def age(self):\n",
    "        return self.__age\n",
    "    \n",
    "    def make_sound(self):\n",
    "        print(f\"{self.__name} says woof!\")    "
   ]
  },
  {
   "cell_type": "code",
   "execution_count": 3,
   "id": "7c8788e7",
   "metadata": {},
   "outputs": [
    {
     "name": "stdout",
     "output_type": "stream",
     "text": [
      "Species: Dog, Name: Buddy, Age: 3\n",
      "Buddy says woof!\n"
     ]
    }
   ],
   "source": [
    "my_dog =Dog(\"Buddy\",3)\n",
    "print(f\"Species: {my_dog.species}, Name: {my_dog.name}, Age: {my_dog.age}\")\n",
    "my_dog.make_sound()"
   ]
  },
  {
   "cell_type": "markdown",
   "id": "b7565c7e",
   "metadata": {},
   "source": [
    "## Super():"
   ]
  },
  {
   "cell_type": "code",
   "execution_count": 1,
   "id": "d2dd9dc2",
   "metadata": {},
   "outputs": [
    {
     "name": "stdout",
     "output_type": "stream",
     "text": [
      "Parent class -Name Alice\n",
      "Child class - Age:  25\n"
     ]
    }
   ],
   "source": [
    "class Parent:\n",
    "    def __init__(self,name):\n",
    "        self.name=name\n",
    "        \n",
    "    def print_info(self):\n",
    "        print(\"Parent class -Name\", self.name)\n",
    "        \n",
    "class Child(Parent):\n",
    "    def __init__(self, name, age):\n",
    "        # call the init method of the parent class\n",
    "        super().__init__(name)\n",
    "        self.age = age\n",
    "        \n",
    "    def print_info(self):\n",
    "        super().print_info()\n",
    "        print(\"Child class - Age: \", self.age)\n",
    "        \n",
    "child_obj = Child(\"Alice\", 25)\n",
    "child_obj.print_info()"
   ]
  },
  {
   "cell_type": "code",
   "execution_count": null,
   "id": "9bd957f9",
   "metadata": {},
   "outputs": [],
   "source": []
  }
 ],
 "metadata": {
  "kernelspec": {
   "display_name": "venv_311",
   "language": "python",
   "name": "venv_311"
  },
  "language_info": {
   "codemirror_mode": {
    "name": "ipython",
    "version": 3
   },
   "file_extension": ".py",
   "mimetype": "text/x-python",
   "name": "python",
   "nbconvert_exporter": "python",
   "pygments_lexer": "ipython3",
   "version": "3.11.5"
  }
 },
 "nbformat": 4,
 "nbformat_minor": 5
}
