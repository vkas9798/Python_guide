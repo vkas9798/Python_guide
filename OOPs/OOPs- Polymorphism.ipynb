{
 "cells": [
  {
   "cell_type": "markdown",
   "id": "13cae9d9",
   "metadata": {},
   "source": [
    "### polymorphism"
   ]
  },
  {
   "cell_type": "markdown",
   "id": "cdd8f7dd",
   "metadata": {},
   "source": [
    "Polymorphism is a key concept in object-oriented programming (OOP) that allows objects of different classes to be treated as objects of a common base class. It allows a single interface to represent different types of objects. In Python, polymorphism is often achieved through method overriding or using a common interface."
   ]
  },
  {
   "cell_type": "code",
   "execution_count": 3,
   "id": "7a246486",
   "metadata": {},
   "outputs": [],
   "source": [
    "class Shape:\n",
    "    def area(self):\n",
    "        pass\n",
    "    \n",
    "class Circle(Shape):   # Inheritance\n",
    "    def __init__(self,radius):\n",
    "        self.radius = radius\n",
    "        \n",
    "    def area(self):  # Method overloading\n",
    "        return 3.14*self.radius*self.radius\n",
    "    \n",
    "class Rectangle(Shape): # Inheritance\n",
    "    def __init__(self,l,b):\n",
    "        self.l=l\n",
    "        self.b=b\n",
    "        \n",
    "    def area(self):  # Method overloading\n",
    "        return self.l*self.b\n",
    "    \n",
    "def calculate_area(shape):\n",
    "    return shape.area()"
   ]
  },
  {
   "cell_type": "code",
   "execution_count": 4,
   "id": "c8976c23",
   "metadata": {},
   "outputs": [
    {
     "data": {
      "text/plain": [
       "78.5"
      ]
     },
     "execution_count": 4,
     "metadata": {},
     "output_type": "execute_result"
    }
   ],
   "source": [
    "circle = Circle(radius=5)\n",
    "calculate_area(circle)"
   ]
  },
  {
   "cell_type": "code",
   "execution_count": null,
   "id": "a0f73128",
   "metadata": {},
   "outputs": [],
   "source": []
  }
 ],
 "metadata": {
  "kernelspec": {
   "display_name": "venv_311",
   "language": "python",
   "name": "venv_311"
  },
  "language_info": {
   "codemirror_mode": {
    "name": "ipython",
    "version": 3
   },
   "file_extension": ".py",
   "mimetype": "text/x-python",
   "name": "python",
   "nbconvert_exporter": "python",
   "pygments_lexer": "ipython3",
   "version": "3.11.5"
  }
 },
 "nbformat": 4,
 "nbformat_minor": 5
}
