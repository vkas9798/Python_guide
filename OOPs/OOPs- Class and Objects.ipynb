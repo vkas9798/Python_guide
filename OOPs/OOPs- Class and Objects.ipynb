{
 "cells": [
  {
   "cell_type": "markdown",
   "id": "2edd5cfa",
   "metadata": {},
   "source": [
    "## OOPs: Classes and Objects\n",
    "* Basics of oops\n",
    "* Encapsulation"
   ]
  },
  {
   "cell_type": "markdown",
   "id": "7b5019a9",
   "metadata": {},
   "source": [
    "### Task : Create a ATM System\n",
    "* Attributes of the class are atm_pin, bank_balance\n",
    "* Methods are pin_generation, withdrawal, deposite"
   ]
  },
  {
   "cell_type": "code",
   "execution_count": 11,
   "id": "2e01f374",
   "metadata": {},
   "outputs": [],
   "source": [
    "class Atm:\n",
    "    # define the constructor with all the attributes\n",
    "    def __init__(self):\n",
    "        self.atm_pin=\"\"\n",
    "        self.bank_balance=0\n",
    "        self.menu()\n",
    "        \n",
    "    def menu(self):\n",
    "        self.user_input = input(\"\"\"\n",
    "                Enter the number\n",
    "                1. Pin Generation\n",
    "                2. Check Balance\n",
    "                3. Deposite\n",
    "                4. Withdrawal\n",
    "                5. Exit\n",
    "        \"\"\")\n",
    "        if self.user_input==\"1\":\n",
    "            print(\"You selected 'pin generation'\")\n",
    "            self.atm_pin = input(\"Enter 4 digit pin\")\n",
    "            print(\"Pin Generation successful\")\n",
    "            self.cont()\n",
    "        elif self.user_input==\"2\":\n",
    "            print(\"Your bank balance is \", self.bank_balance)\n",
    "            self.cont()\n",
    "        elif self.user_input==\"3\":\n",
    "            amount_add = int(input(\"Enter the amount to deposit\"))\n",
    "            self.bank_balance+=amount_add\n",
    "            print(\"Final balance is \", self.bank_balance)\n",
    "            self.cont()\n",
    "        elif self.user_input==\"4\":\n",
    "            amount_sub = int(input(\"Enter the amount to withdraw\"))\n",
    "            if amount_sub > self.bank_balance:\n",
    "                print(\"Insufficient bank balance\")\n",
    "                self.cont()\n",
    "            else:\n",
    "                self.bank_balance-=amount_sub\n",
    "                print(\"Your Final bank_balance is \", self.bank_balance)\n",
    "                self.cont()\n",
    "        else:\n",
    "            print(\"Thank you\")\n",
    "            \n",
    "    def cont(self):\n",
    "        self.sec_input=input(\"\"\"\n",
    "        1. Return to main menu\n",
    "        0. exit\n",
    "        \"\"\")\n",
    "        if self.sec_input == \"1\":\n",
    "            self.menu()\n",
    "        elif self.sec_input == \"0\":\n",
    "            print(exit)\n",
    "        else:\n",
    "            print(\"Invalid response\")\n",
    "            self.cont()"
   ]
  },
  {
   "cell_type": "code",
   "execution_count": 12,
   "id": "7f74fb7a",
   "metadata": {},
   "outputs": [
    {
     "name": "stdout",
     "output_type": "stream",
     "text": [
      "\n",
      "                Enter the number\n",
      "                1. Pin Generation\n",
      "                2. Check Balance\n",
      "                3. Deposite\n",
      "                4. Withdrawal\n",
      "                5. Exit\n",
      "        1\n",
      "You selected 'pin generation'\n",
      "Enter 4 digit pin1234\n",
      "Pin Generation successful\n",
      "\n",
      "        1. Return to main menu\n",
      "        0. exit\n",
      "        5\n",
      "Invalid response\n",
      "\n",
      "        1. Return to main menu\n",
      "        0. exit\n",
      "        1\n",
      "\n",
      "                Enter the number\n",
      "                1. Pin Generation\n",
      "                2. Check Balance\n",
      "                3. Deposite\n",
      "                4. Withdrawal\n",
      "                5. Exit\n",
      "        2\n",
      "Your bank balance is  0\n",
      "\n",
      "        1. Return to main menu\n",
      "        0. exit\n",
      "        1\n",
      "\n",
      "                Enter the number\n",
      "                1. Pin Generation\n",
      "                2. Check Balance\n",
      "                3. Deposite\n",
      "                4. Withdrawal\n",
      "                5. Exit\n",
      "        5\n",
      "Thank you\n"
     ]
    }
   ],
   "source": [
    "ravi=Atm()"
   ]
  },
  {
   "cell_type": "code",
   "execution_count": 29,
   "id": "4871e814",
   "metadata": {},
   "outputs": [],
   "source": [
    "class Atm2:\n",
    "    # define the constructor with all the attributes\n",
    "    def __init__(self):\n",
    "        self.atm_pin=\"\"\n",
    "        self.bank_balance=0\n",
    "        self.menu()\n",
    "        \n",
    "    def menu(self):\n",
    "        self.user_input = input(\"\"\"\n",
    "                Enter the number\n",
    "                1. Pin Generation\n",
    "                2. Check Balance\n",
    "                3. Deposite\n",
    "                4. Withdrawal\n",
    "                5. Exit\n",
    "        \"\"\")\n",
    "        if self.user_input==\"1\":\n",
    "            self.pin_generation()\n",
    "        elif self.user_input==\"2\":\n",
    "            self.check_balance()\n",
    "        elif self.user_input==\"3\":\n",
    "            self.deposite()\n",
    "        elif self.user_input==\"4\":\n",
    "            self.withdrawal()\n",
    "        else:\n",
    "            print(\"Thank you\")\n",
    "            \n",
    "    def pin_generation(self):\n",
    "        self.pin = input(\"Enter 4 digit code\")\n",
    "        print(\"Pin generation successful\")\n",
    "    \n",
    "    def verify_pin(self):\n",
    "        temp = input(\"Enter you 4 digit pin \")\n",
    "        if temp == self.pin:\n",
    "            return True\n",
    "        else:\n",
    "            print(\"Wrong Password try again\")\n",
    "            self.verify_pin()\n",
    "        \n",
    "    def check_balance(self):\n",
    "        if self.verify_pin():\n",
    "            print(\"Your Balance is \", self.bank_balance)\n",
    "    \n",
    "    def deposite(self):\n",
    "        if self.verify_pin():\n",
    "            amount_add = int(input(\"Enter the amount to deposite\"))\n",
    "            self.bank_balance += amount_add\n",
    "            print(\"Your total balance is \", self.bank_balance)\n",
    "            \n",
    "    def withdrawal(self):\n",
    "        if self.verify_pin():\n",
    "            amount_sub = int(input(\"Enter the amount to withdraw\"))\n",
    "            if amount_sub > self.bank_balance:\n",
    "                print(\"Insufficient balance\")\n",
    "            else:\n",
    "                self.bank_balance -= amount_sub\n",
    "                print(\"Your total balance is \", self.bank_balance)"
   ]
  },
  {
   "cell_type": "code",
   "execution_count": 30,
   "id": "71097a06",
   "metadata": {},
   "outputs": [
    {
     "name": "stdout",
     "output_type": "stream",
     "text": [
      "\n",
      "                Enter the number\n",
      "                1. Pin Generation\n",
      "                2. Check Balance\n",
      "                3. Deposite\n",
      "                4. Withdrawal\n",
      "                5. Exit\n",
      "        1\n",
      "Enter 4 digit code1234\n",
      "Pin generation successful\n"
     ]
    }
   ],
   "source": [
    "m = Atm2()"
   ]
  },
  {
   "cell_type": "code",
   "execution_count": 31,
   "id": "d4ef5758",
   "metadata": {},
   "outputs": [
    {
     "name": "stdout",
     "output_type": "stream",
     "text": [
      "Enter you 4 digit pin1234\n",
      "Your Balance is  0\n"
     ]
    }
   ],
   "source": [
    "m.check_balance()"
   ]
  },
  {
   "cell_type": "code",
   "execution_count": 24,
   "id": "b72e0bf3",
   "metadata": {},
   "outputs": [
    {
     "name": "stdout",
     "output_type": "stream",
     "text": [
      "Enter the amount to withdraw1000\n",
      "Insufficient balance\n"
     ]
    }
   ],
   "source": [
    "m.withdrawal()"
   ]
  },
  {
   "cell_type": "markdown",
   "id": "a1307446",
   "metadata": {},
   "source": [
    "## Creating Datatype"
   ]
  },
  {
   "cell_type": "markdown",
   "id": "513437be",
   "metadata": {},
   "source": [
    "### Create a datatype with name \"fraction\" and perform different operattions\n",
    "* Attribute are: numerator and denominator\n",
    "* methods are: addition, subtraction"
   ]
  },
  {
   "cell_type": "code",
   "execution_count": 35,
   "id": "0502b526",
   "metadata": {},
   "outputs": [],
   "source": [
    "class Fraction:\n",
    "    def __init__(self, num, den):\n",
    "        self.num = num\n",
    "        self.den = den\n",
    "        \n",
    "    def __str__(self):\n",
    "        return \"{}/{}\".format(self.num, self.den)\n",
    "    \n",
    "    def __add__(self,other):\n",
    "        temp_num = self.num*other.den + self.den*other.num\n",
    "        temp_den = self.den*other.den\n",
    "        return \"{}/{}\".format(temp_num,temp_den)\n",
    "    \n",
    "    def __sub__(self):\n",
    "        temp_num = self.num*other.den - self.den*other.num\n",
    "        temp_den = self.den*other.den\n",
    "        return \"{}/{}\".format(temp_num,temp_den)\n",
    "    \n",
    "    def __mul__(self,other):\n",
    "        temp_num = self.num*other.num\n",
    "        temp_den = self.den*other.den\n",
    "        return \"{}/{}\".format(temp_num,temp_den)\n",
    "    "
   ]
  },
  {
   "cell_type": "code",
   "execution_count": 37,
   "id": "67a552b2",
   "metadata": {},
   "outputs": [
    {
     "name": "stdout",
     "output_type": "stream",
     "text": [
      "4/5\n",
      "1/5\n",
      "25/25\n"
     ]
    }
   ],
   "source": [
    "x = Fraction(4,5)\n",
    "print(x)\n",
    "y = Fraction(1,5)\n",
    "print(y)\n",
    "z = x+y\n",
    "print(z)"
   ]
  },
  {
   "cell_type": "markdown",
   "id": "e0394062",
   "metadata": {},
   "source": [
    "## Encapsulation"
   ]
  },
  {
   "cell_type": "markdown",
   "id": "434379a0",
   "metadata": {},
   "source": [
    "### Encapsulation is process of restricting the user to directly access the private data of the class\n",
    "* But accessing them through a function is allowed \n",
    "* With the help of getter and setter function the private data can also be changed"
   ]
  },
  {
   "cell_type": "code",
   "execution_count": 39,
   "id": "396c6b31",
   "metadata": {},
   "outputs": [],
   "source": [
    "class Customer:\n",
    "    def __init__(self):\n",
    "        self.pin1=\"1234\"\n",
    "        self.__pin2 = \"4321\"  # private data\n",
    "        # private data or method cannot be used outside the class\n",
    "        \n",
    "    def __verify_pin(self):\n",
    "        pass\n",
    "    \n",
    "    #getter function\n",
    "    def get_pin(self):\n",
    "        return self.__pin2\n",
    "    \n",
    "    #setter function\n",
    "    def set_pin(self, new_pin):\n",
    "        self.__pin2 = new_pin\n",
    "        "
   ]
  },
  {
   "cell_type": "code",
   "execution_count": 45,
   "id": "12b92cd2",
   "metadata": {},
   "outputs": [],
   "source": [
    "a = Customer()"
   ]
  },
  {
   "cell_type": "code",
   "execution_count": 46,
   "id": "7f07a363",
   "metadata": {},
   "outputs": [
    {
     "name": "stdout",
     "output_type": "stream",
     "text": [
      "1234\n"
     ]
    },
    {
     "ename": "AttributeError",
     "evalue": "'Customer' object has no attribute 'pin2'",
     "output_type": "error",
     "traceback": [
      "\u001b[1;31m---------------------------------------------------------------------------\u001b[0m",
      "\u001b[1;31mAttributeError\u001b[0m                            Traceback (most recent call last)",
      "Cell \u001b[1;32mIn[46], line 2\u001b[0m\n\u001b[0;32m      1\u001b[0m \u001b[38;5;28mprint\u001b[39m(a\u001b[38;5;241m.\u001b[39mpin1)\n\u001b[1;32m----> 2\u001b[0m \u001b[38;5;28mprint\u001b[39m(\u001b[43ma\u001b[49m\u001b[38;5;241;43m.\u001b[39;49m\u001b[43mpin2\u001b[49m)\n",
      "\u001b[1;31mAttributeError\u001b[0m: 'Customer' object has no attribute 'pin2'"
     ]
    }
   ],
   "source": [
    "print(a.pin1)\n",
    "print(a.pin2)"
   ]
  },
  {
   "cell_type": "code",
   "execution_count": 49,
   "id": "3d4d4b0f",
   "metadata": {},
   "outputs": [
    {
     "data": {
      "text/plain": [
       "'4321'"
      ]
     },
     "execution_count": 49,
     "metadata": {},
     "output_type": "execute_result"
    }
   ],
   "source": [
    "a._Customer__pin2   # accessing the private data"
   ]
  },
  {
   "cell_type": "code",
   "execution_count": null,
   "id": "85b093a2",
   "metadata": {},
   "outputs": [],
   "source": []
  }
 ],
 "metadata": {
  "kernelspec": {
   "display_name": "venv_311",
   "language": "python",
   "name": "venv_311"
  },
  "language_info": {
   "codemirror_mode": {
    "name": "ipython",
    "version": 3
   },
   "file_extension": ".py",
   "mimetype": "text/x-python",
   "name": "python",
   "nbconvert_exporter": "python",
   "pygments_lexer": "ipython3",
   "version": "3.11.5"
  }
 },
 "nbformat": 4,
 "nbformat_minor": 5
}
