{
 "cells": [
  {
   "cell_type": "markdown",
   "id": "c429027a",
   "metadata": {},
   "source": [
    "## Task: Build a ATM System"
   ]
  },
  {
   "cell_type": "markdown",
   "id": "1c7271f9",
   "metadata": {},
   "source": [
    "* Attributes: Pin, balance\n",
    "* methods: pin generation, deposite, withdrawal, show balance\n",
    "    - Use encapsulation"
   ]
  },
  {
   "cell_type": "code",
   "execution_count": 17,
   "id": "34ba6ccb",
   "metadata": {},
   "outputs": [],
   "source": [
    "class Atm:\n",
    "    # Constructor\n",
    "    def __init__(self):\n",
    "        self.__pin = \"\"\n",
    "        self.__balance = 0\n",
    "        self.menu()\n",
    "        \n",
    "    def menu(self):\n",
    "        temp = input(\"\"\"\n",
    "        Select one of the below options\n",
    "        1. Pin Generation\n",
    "        2. Check balance\n",
    "        3. Deposite\n",
    "        4. Withdrawal\n",
    "        5. Exit\n",
    "        \"\"\")\n",
    "        if temp == '1':\n",
    "            self.pin_generation()\n",
    "        elif temp == '2':\n",
    "            self.get_balance()\n",
    "        elif temp == '3':\n",
    "            self.deposite()\n",
    "        elif temp == '4':\n",
    "            self.withdrawal()\n",
    "        else:\n",
    "            print(\"Thank You\")\n",
    "    \n",
    "    def verify_pin(self):\n",
    "        temp_pin = input(\"Enter your 4 digit pin \")\n",
    "        if temp_pin == self.__pin:\n",
    "            return True\n",
    "        else:\n",
    "            print(\"Wrong pin, Please try again \")\n",
    "            self.verify_pin()\n",
    "    \n",
    "    def pin_generation(self):\n",
    "        if self.__pin == \"\":\n",
    "            self.__pin = input(\"Enter 4 digit pin\")\n",
    "            print(\"Pin Generation successful\")\n",
    "        else:\n",
    "            print(\"You already have a pin\")\n",
    "            \n",
    "    def get_balance(self):\n",
    "        if self.verify_pin():\n",
    "            print(\"You balance is {}\".format(self.__balance))\n",
    "    \n",
    "    def deposite(self):\n",
    "        if self.verify_pin():\n",
    "            temp = int(input(\"Enter the amount to deposite \"))\n",
    "            self.__balance += temp\n",
    "            print(\"Your total balance is {}\".format(self.__balance))\n",
    "    \n",
    "    def withdrawal(self):\n",
    "        if self.verify_pin():\n",
    "            temp = int(input(\"Enter the amount to withdraw \"))\n",
    "            if temp > self.__balance:\n",
    "                print(\"Insufficient amount\")\n",
    "            else:\n",
    "                self.__balance -= temp\n",
    "                print(\"Your total balance is {}\".format(self.__balance))\n",
    "                "
   ]
  },
  {
   "cell_type": "code",
   "execution_count": 18,
   "id": "ee3251f7",
   "metadata": {},
   "outputs": [
    {
     "name": "stdout",
     "output_type": "stream",
     "text": [
      "\n",
      "        Select one of the below options\n",
      "        1. Pin Generation\n",
      "        2. Check balance\n",
      "        3. Deposite\n",
      "        4. Withdrawal\n",
      "        5. Exit\n",
      "        1\n",
      "Enter 4 digit pin1234\n",
      "Pin Generation successful\n"
     ]
    }
   ],
   "source": [
    "sbi = Atm()"
   ]
  },
  {
   "cell_type": "code",
   "execution_count": 19,
   "id": "f7046bf2",
   "metadata": {},
   "outputs": [
    {
     "name": "stdout",
     "output_type": "stream",
     "text": [
      "Enter your 4 digit pin 1234\n",
      "You balance is 0\n"
     ]
    }
   ],
   "source": [
    "sbi.get_balance()"
   ]
  },
  {
   "cell_type": "code",
   "execution_count": 20,
   "id": "950f8475",
   "metadata": {},
   "outputs": [
    {
     "name": "stdout",
     "output_type": "stream",
     "text": [
      "You already have a pin\n"
     ]
    }
   ],
   "source": [
    "sbi.pin_generation()"
   ]
  },
  {
   "cell_type": "code",
   "execution_count": 10,
   "id": "6cfddff3",
   "metadata": {},
   "outputs": [
    {
     "name": "stdout",
     "output_type": "stream",
     "text": [
      "Enter your 4 digit pin 1234\n",
      "Enter the amount to deposite 5250\n",
      "Your total balance is 10250\n"
     ]
    }
   ],
   "source": [
    "sbi.deposite()"
   ]
  },
  {
   "cell_type": "code",
   "execution_count": 13,
   "id": "e2e23503",
   "metadata": {},
   "outputs": [
    {
     "name": "stdout",
     "output_type": "stream",
     "text": [
      "Enter your 4 digit pin 1234\n",
      "Enter the amount to withdraw 2000\n",
      "Your total balance is 8250\n"
     ]
    }
   ],
   "source": [
    "sbi.withdrawal()"
   ]
  },
  {
   "cell_type": "code",
   "execution_count": 22,
   "id": "4c43f353",
   "metadata": {},
   "outputs": [
    {
     "ename": "AttributeError",
     "evalue": "'Atm' object has no attribute '__pin'",
     "output_type": "error",
     "traceback": [
      "\u001b[1;31m---------------------------------------------------------------------------\u001b[0m",
      "\u001b[1;31mAttributeError\u001b[0m                            Traceback (most recent call last)",
      "Cell \u001b[1;32mIn[22], line 1\u001b[0m\n\u001b[1;32m----> 1\u001b[0m \u001b[43msbi\u001b[49m\u001b[38;5;241;43m.\u001b[39;49m\u001b[43m__pin\u001b[49m\n",
      "\u001b[1;31mAttributeError\u001b[0m: 'Atm' object has no attribute '__pin'"
     ]
    }
   ],
   "source": [
    "sbi.__pin"
   ]
  },
  {
   "cell_type": "markdown",
   "id": "b88be985",
   "metadata": {},
   "source": [
    "## bank Account"
   ]
  },
  {
   "cell_type": "code",
   "execution_count": 1,
   "id": "0408db85",
   "metadata": {},
   "outputs": [],
   "source": [
    "class BankAccount:\n",
    "    def __init__(self,account_holder, balance=0):\n",
    "        self.__account_holder = account_holder\n",
    "        self.__balance = balance\n",
    "        \n",
    "    @property #getter function\n",
    "    def account_holder(self):\n",
    "        return self.__account_holder\n",
    "    \n",
    "    @property\n",
    "    def balance(self):\n",
    "        return self.__balance\n",
    "    \n",
    "    def deposit(self, amount):\n",
    "        if amount>0:\n",
    "            self.__balance+=amount\n",
    "            print(f\"Deposited {amount}. New Balance: {self.__balance}\")\n",
    "        else:\n",
    "            print(\"Invalid deposite amount\")\n",
    "            \n",
    "    def withdraw(self, amount):\n",
    "        if 0<=amount<=self.__balance:\n",
    "            self.__balance-=amount\n",
    "            print(f\"Withdrew {amount}. New Balance: {self.__balance}\")\n",
    "        else:\n",
    "            print(\"invalid amount for withdrawal\")"
   ]
  },
  {
   "cell_type": "code",
   "execution_count": 3,
   "id": "0f169acb",
   "metadata": {},
   "outputs": [
    {
     "name": "stdout",
     "output_type": "stream",
     "text": [
      "Account holder: Alice\n",
      "Initial Balance: 1000\n",
      "Deposited 500. New Balance: 1500\n",
      "Withdrew 200. New Balance: 1300\n"
     ]
    }
   ],
   "source": [
    "account = BankAccount(\"Alice\", 1000)\n",
    "print(f\"Account holder: {account.account_holder}\")\n",
    "print(f\"Initial Balance: {account.balance}\")\n",
    "account.deposit(500)\n",
    "account.withdraw(200)"
   ]
  },
  {
   "cell_type": "markdown",
   "id": "82086bc9",
   "metadata": {},
   "source": [
    "### Eg: Product Inventory with encapsulation"
   ]
  },
  {
   "cell_type": "code",
   "execution_count": 5,
   "id": "e703ce91",
   "metadata": {},
   "outputs": [],
   "source": [
    "class Product:\n",
    "    def __init__(self, name, price, stock):\n",
    "        self.__name=name\n",
    "        self.__price = price\n",
    "        self.__stock = stock\n",
    "        \n",
    "    @property\n",
    "    def name(self):\n",
    "        return self.__name\n",
    "    \n",
    "    @property\n",
    "    def price(self):\n",
    "        return self.__price\n",
    "    \n",
    "    @property\n",
    "    def stock(self):\n",
    "        return self.__stock\n",
    "    \n",
    "    def sell(self,quantity):\n",
    "        if 0<=quantity<=self.__stock:\n",
    "            self.__stock-=quantity\n",
    "            print(f\"Sold {quantity} {self.__name}(s). Remaining stock: {self.__stock}\")\n",
    "        else:\n",
    "            print(\"Invalid selling\")"
   ]
  },
  {
   "cell_type": "code",
   "execution_count": 7,
   "id": "82f2b2bb",
   "metadata": {},
   "outputs": [
    {
     "name": "stdout",
     "output_type": "stream",
     "text": [
      "Product: laptop, Price: 1200, Initial Stock: 10\n",
      "Sold 8 laptop(s). Remaining stock: 2\n",
      "Invalid selling\n"
     ]
    }
   ],
   "source": [
    "product = Product(\"laptop\",1200,10)\n",
    "print(f\"Product: {product.name}, Price: {product.price}, Initial Stock: {product.stock}\")\n",
    "product.sell(8)\n",
    "product.sell(5)"
   ]
  },
  {
   "cell_type": "code",
   "execution_count": 13,
   "id": "8b760a4c",
   "metadata": {},
   "outputs": [],
   "source": [
    "### Eg: Employee informationwith encapsulation\n",
    "class Employee:\n",
    "    def __init__(self,name,position, salary):\n",
    "        self.__name = name\n",
    "        self.__position = position\n",
    "        self.__salary = salary\n",
    "        \n",
    "    @property\n",
    "    def name(self):\n",
    "        return self.__name\n",
    "    \n",
    "    @property\n",
    "    def position(self):\n",
    "        return self.__position\n",
    "    \n",
    "    @property\n",
    "    def salary(self):\n",
    "        return self.__salary\n",
    "    \n",
    "    def promote(self,new_position, salary_inc):\n",
    "        if salary_inc>0:\n",
    "            self.__position = new_position\n",
    "            self.__salary +=salary_inc\n",
    "            print(f\"{self.__name} hase been promoted to {new_position}. New salary: {self.__salary}\")\n",
    "        else:\n",
    "            print(\"Invalid operatinon\")\n",
    "    "
   ]
  },
  {
   "cell_type": "code",
   "execution_count": 14,
   "id": "2daf75a4",
   "metadata": {},
   "outputs": [
    {
     "name": "stdout",
     "output_type": "stream",
     "text": [
      "Employee:John, Position: Dev,Salary: 60000\n",
      "John hase been promoted to Senior dev. New salary: 70000\n"
     ]
    }
   ],
   "source": [
    "employee = Employee(\"John\",\"Dev\",60000)\n",
    "print(f\"Employee:{employee.name}, Position: {employee.position},Salary: {employee.salary}\")\n",
    "employee.promote(\"Senior dev\",10000)"
   ]
  },
  {
   "cell_type": "code",
   "execution_count": null,
   "id": "d098b4d6",
   "metadata": {},
   "outputs": [],
   "source": []
  }
 ],
 "metadata": {
  "kernelspec": {
   "display_name": "venv_311",
   "language": "python",
   "name": "venv_311"
  },
  "language_info": {
   "codemirror_mode": {
    "name": "ipython",
    "version": 3
   },
   "file_extension": ".py",
   "mimetype": "text/x-python",
   "name": "python",
   "nbconvert_exporter": "python",
   "pygments_lexer": "ipython3",
   "version": "3.11.5"
  }
 },
 "nbformat": 4,
 "nbformat_minor": 5
}
